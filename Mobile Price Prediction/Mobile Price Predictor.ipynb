{
 "cells": [
  {
   "cell_type": "code",
   "execution_count": 1,
   "id": "140eddab-68b2-4f8b-ab88-fc05031dcb69",
   "metadata": {},
   "outputs": [],
   "source": [
    "import pandas as pd\n",
    "import matplotlib.pyplot as plt\n",
    "import seaborn as sns\n",
    "import numpy as np"
   ]
  },
  {
   "cell_type": "code",
   "execution_count": 2,
   "id": "68cf4041-b3ca-4e62-b537-07d5bfd9e99f",
   "metadata": {},
   "outputs": [],
   "source": [
    "df = pd.read_csv(\"smartphones.csv\")"
   ]
  },
  {
   "cell_type": "code",
   "execution_count": 3,
   "id": "d67ea5ec-e276-4ac9-98a7-a0e81f472609",
   "metadata": {},
   "outputs": [
    {
     "data": {
      "text/html": [
       "<div>\n",
       "<style scoped>\n",
       "    .dataframe tbody tr th:only-of-type {\n",
       "        vertical-align: middle;\n",
       "    }\n",
       "\n",
       "    .dataframe tbody tr th {\n",
       "        vertical-align: top;\n",
       "    }\n",
       "\n",
       "    .dataframe thead th {\n",
       "        text-align: right;\n",
       "    }\n",
       "</style>\n",
       "<table border=\"1\" class=\"dataframe\">\n",
       "  <thead>\n",
       "    <tr style=\"text-align: right;\">\n",
       "      <th></th>\n",
       "      <th>Smartphone</th>\n",
       "      <th>Brand</th>\n",
       "      <th>Model</th>\n",
       "      <th>RAM</th>\n",
       "      <th>Storage</th>\n",
       "      <th>Color</th>\n",
       "      <th>Free</th>\n",
       "      <th>Final Price</th>\n",
       "    </tr>\n",
       "  </thead>\n",
       "  <tbody>\n",
       "    <tr>\n",
       "      <th>0</th>\n",
       "      <td>Realme C55 8/256GB Sunshower Libre</td>\n",
       "      <td>Realme</td>\n",
       "      <td>C55</td>\n",
       "      <td>8.0</td>\n",
       "      <td>256.0</td>\n",
       "      <td>Yellow</td>\n",
       "      <td>Yes</td>\n",
       "      <td>231.60</td>\n",
       "    </tr>\n",
       "    <tr>\n",
       "      <th>1</th>\n",
       "      <td>Samsung Galaxy M23 5G 4/128GB Azul Libre</td>\n",
       "      <td>Samsung</td>\n",
       "      <td>Galaxy M23</td>\n",
       "      <td>4.0</td>\n",
       "      <td>128.0</td>\n",
       "      <td>Blue</td>\n",
       "      <td>Yes</td>\n",
       "      <td>279.00</td>\n",
       "    </tr>\n",
       "    <tr>\n",
       "      <th>2</th>\n",
       "      <td>Motorola Moto G13 4/128GB Azul Lavanda Libre</td>\n",
       "      <td>Motorola</td>\n",
       "      <td>Moto G13</td>\n",
       "      <td>4.0</td>\n",
       "      <td>128.0</td>\n",
       "      <td>Blue</td>\n",
       "      <td>Yes</td>\n",
       "      <td>179.01</td>\n",
       "    </tr>\n",
       "    <tr>\n",
       "      <th>3</th>\n",
       "      <td>Xiaomi Redmi Note 11S 6/128GB Gris Libre</td>\n",
       "      <td>Xiaomi</td>\n",
       "      <td>Redmi Note 11S</td>\n",
       "      <td>6.0</td>\n",
       "      <td>128.0</td>\n",
       "      <td>Gray</td>\n",
       "      <td>Yes</td>\n",
       "      <td>279.99</td>\n",
       "    </tr>\n",
       "    <tr>\n",
       "      <th>4</th>\n",
       "      <td>Nothing Phone (2) 12/512GB Blanco Libre</td>\n",
       "      <td>Nothing</td>\n",
       "      <td>Phone (2)</td>\n",
       "      <td>12.0</td>\n",
       "      <td>512.0</td>\n",
       "      <td>White</td>\n",
       "      <td>Yes</td>\n",
       "      <td>799.00</td>\n",
       "    </tr>\n",
       "  </tbody>\n",
       "</table>\n",
       "</div>"
      ],
      "text/plain": [
       "                                     Smartphone     Brand           Model  \\\n",
       "0            Realme C55 8/256GB Sunshower Libre    Realme             C55   \n",
       "1      Samsung Galaxy M23 5G 4/128GB Azul Libre   Samsung      Galaxy M23   \n",
       "2  Motorola Moto G13 4/128GB Azul Lavanda Libre  Motorola        Moto G13   \n",
       "3      Xiaomi Redmi Note 11S 6/128GB Gris Libre    Xiaomi  Redmi Note 11S   \n",
       "4       Nothing Phone (2) 12/512GB Blanco Libre   Nothing       Phone (2)   \n",
       "\n",
       "    RAM  Storage   Color Free  Final Price  \n",
       "0   8.0    256.0  Yellow  Yes       231.60  \n",
       "1   4.0    128.0    Blue  Yes       279.00  \n",
       "2   4.0    128.0    Blue  Yes       179.01  \n",
       "3   6.0    128.0    Gray  Yes       279.99  \n",
       "4  12.0    512.0   White  Yes       799.00  "
      ]
     },
     "execution_count": 3,
     "metadata": {},
     "output_type": "execute_result"
    }
   ],
   "source": [
    "df.head()"
   ]
  },
  {
   "cell_type": "code",
   "execution_count": 4,
   "id": "6f6e5b8d-505a-4b9e-88f0-29a384130e0e",
   "metadata": {},
   "outputs": [],
   "source": [
    "df.drop(columns=['Free'],inplace=True)"
   ]
  },
  {
   "cell_type": "code",
   "execution_count": 5,
   "id": "6f8ba98c-fff1-4ac0-a87a-3645ffbb58f7",
   "metadata": {},
   "outputs": [
    {
     "data": {
      "text/plain": [
       "(1816, 7)"
      ]
     },
     "execution_count": 5,
     "metadata": {},
     "output_type": "execute_result"
    }
   ],
   "source": [
    "df.shape"
   ]
  },
  {
   "cell_type": "code",
   "execution_count": 6,
   "id": "29b316c2-9c96-448d-9b9e-8d4a5a269b26",
   "metadata": {},
   "outputs": [
    {
     "data": {
      "text/plain": [
       "0"
      ]
     },
     "execution_count": 6,
     "metadata": {},
     "output_type": "execute_result"
    }
   ],
   "source": [
    "df.duplicated().sum()"
   ]
  },
  {
   "cell_type": "markdown",
   "id": "62d26734-d05f-4950-a3fb-f3e247e11c55",
   "metadata": {},
   "source": [
    "<h1>Filling mssing values</h1>"
   ]
  },
  {
   "cell_type": "code",
   "execution_count": 7,
   "id": "168e7a51-55f8-48ae-8ba1-0b07d57b42f7",
   "metadata": {},
   "outputs": [
    {
     "data": {
      "text/html": [
       "<div>\n",
       "<style scoped>\n",
       "    .dataframe tbody tr th:only-of-type {\n",
       "        vertical-align: middle;\n",
       "    }\n",
       "\n",
       "    .dataframe tbody tr th {\n",
       "        vertical-align: top;\n",
       "    }\n",
       "\n",
       "    .dataframe thead th {\n",
       "        text-align: right;\n",
       "    }\n",
       "</style>\n",
       "<table border=\"1\" class=\"dataframe\">\n",
       "  <thead>\n",
       "    <tr style=\"text-align: right;\">\n",
       "      <th></th>\n",
       "      <th>RAM</th>\n",
       "      <th>Storage</th>\n",
       "      <th>Final Price</th>\n",
       "    </tr>\n",
       "  </thead>\n",
       "  <tbody>\n",
       "    <tr>\n",
       "      <th>count</th>\n",
       "      <td>1333.00000</td>\n",
       "      <td>1791.000000</td>\n",
       "      <td>1816.000000</td>\n",
       "    </tr>\n",
       "    <tr>\n",
       "      <th>mean</th>\n",
       "      <td>5.96099</td>\n",
       "      <td>162.652150</td>\n",
       "      <td>492.175573</td>\n",
       "    </tr>\n",
       "    <tr>\n",
       "      <th>std</th>\n",
       "      <td>2.66807</td>\n",
       "      <td>139.411605</td>\n",
       "      <td>398.606183</td>\n",
       "    </tr>\n",
       "    <tr>\n",
       "      <th>min</th>\n",
       "      <td>1.00000</td>\n",
       "      <td>2.000000</td>\n",
       "      <td>60.460000</td>\n",
       "    </tr>\n",
       "    <tr>\n",
       "      <th>25%</th>\n",
       "      <td>4.00000</td>\n",
       "      <td>64.000000</td>\n",
       "      <td>200.990000</td>\n",
       "    </tr>\n",
       "    <tr>\n",
       "      <th>50%</th>\n",
       "      <td>6.00000</td>\n",
       "      <td>128.000000</td>\n",
       "      <td>349.990000</td>\n",
       "    </tr>\n",
       "    <tr>\n",
       "      <th>75%</th>\n",
       "      <td>8.00000</td>\n",
       "      <td>256.000000</td>\n",
       "      <td>652.717500</td>\n",
       "    </tr>\n",
       "    <tr>\n",
       "      <th>max</th>\n",
       "      <td>12.00000</td>\n",
       "      <td>1000.000000</td>\n",
       "      <td>2271.280000</td>\n",
       "    </tr>\n",
       "  </tbody>\n",
       "</table>\n",
       "</div>"
      ],
      "text/plain": [
       "              RAM      Storage  Final Price\n",
       "count  1333.00000  1791.000000  1816.000000\n",
       "mean      5.96099   162.652150   492.175573\n",
       "std       2.66807   139.411605   398.606183\n",
       "min       1.00000     2.000000    60.460000\n",
       "25%       4.00000    64.000000   200.990000\n",
       "50%       6.00000   128.000000   349.990000\n",
       "75%       8.00000   256.000000   652.717500\n",
       "max      12.00000  1000.000000  2271.280000"
      ]
     },
     "execution_count": 7,
     "metadata": {},
     "output_type": "execute_result"
    }
   ],
   "source": [
    "df.describe()"
   ]
  },
  {
   "cell_type": "code",
   "execution_count": 8,
   "id": "598c228a-797f-4ab9-a23d-4bcb4c737057",
   "metadata": {},
   "outputs": [],
   "source": [
    "from sklearn.impute import SimpleImputer"
   ]
  },
  {
   "cell_type": "code",
   "execution_count": 9,
   "id": "f8a082cf-e7b0-4b1e-92c9-4030942fb656",
   "metadata": {},
   "outputs": [],
   "source": [
    "imputer = SimpleImputer(strategy='most_frequent')"
   ]
  },
  {
   "cell_type": "code",
   "execution_count": 10,
   "id": "ef9e3a22-35f5-45fe-9f00-053025063faf",
   "metadata": {},
   "outputs": [],
   "source": [
    "encoded_storage = imputer.fit_transform(df[['Storage']])"
   ]
  },
  {
   "cell_type": "code",
   "execution_count": 11,
   "id": "96d16394-8d20-4177-9a62-cea06b6d07cb",
   "metadata": {},
   "outputs": [],
   "source": [
    "df['Storage'] = encoded_storage"
   ]
  },
  {
   "cell_type": "code",
   "execution_count": 12,
   "id": "fa028e04-3e9b-43e1-883a-7d582e76c5f0",
   "metadata": {},
   "outputs": [
    {
     "data": {
      "text/html": [
       "<div>\n",
       "<style scoped>\n",
       "    .dataframe tbody tr th:only-of-type {\n",
       "        vertical-align: middle;\n",
       "    }\n",
       "\n",
       "    .dataframe tbody tr th {\n",
       "        vertical-align: top;\n",
       "    }\n",
       "\n",
       "    .dataframe thead th {\n",
       "        text-align: right;\n",
       "    }\n",
       "</style>\n",
       "<table border=\"1\" class=\"dataframe\">\n",
       "  <thead>\n",
       "    <tr style=\"text-align: right;\">\n",
       "      <th></th>\n",
       "      <th>Smartphone</th>\n",
       "      <th>Brand</th>\n",
       "      <th>Model</th>\n",
       "      <th>RAM</th>\n",
       "      <th>Storage</th>\n",
       "      <th>Color</th>\n",
       "      <th>Final Price</th>\n",
       "    </tr>\n",
       "  </thead>\n",
       "  <tbody>\n",
       "    <tr>\n",
       "      <th>0</th>\n",
       "      <td>Realme C55 8/256GB Sunshower Libre</td>\n",
       "      <td>Realme</td>\n",
       "      <td>C55</td>\n",
       "      <td>8.0</td>\n",
       "      <td>256.0</td>\n",
       "      <td>Yellow</td>\n",
       "      <td>231.60</td>\n",
       "    </tr>\n",
       "    <tr>\n",
       "      <th>1</th>\n",
       "      <td>Samsung Galaxy M23 5G 4/128GB Azul Libre</td>\n",
       "      <td>Samsung</td>\n",
       "      <td>Galaxy M23</td>\n",
       "      <td>4.0</td>\n",
       "      <td>128.0</td>\n",
       "      <td>Blue</td>\n",
       "      <td>279.00</td>\n",
       "    </tr>\n",
       "    <tr>\n",
       "      <th>2</th>\n",
       "      <td>Motorola Moto G13 4/128GB Azul Lavanda Libre</td>\n",
       "      <td>Motorola</td>\n",
       "      <td>Moto G13</td>\n",
       "      <td>4.0</td>\n",
       "      <td>128.0</td>\n",
       "      <td>Blue</td>\n",
       "      <td>179.01</td>\n",
       "    </tr>\n",
       "    <tr>\n",
       "      <th>3</th>\n",
       "      <td>Xiaomi Redmi Note 11S 6/128GB Gris Libre</td>\n",
       "      <td>Xiaomi</td>\n",
       "      <td>Redmi Note 11S</td>\n",
       "      <td>6.0</td>\n",
       "      <td>128.0</td>\n",
       "      <td>Gray</td>\n",
       "      <td>279.99</td>\n",
       "    </tr>\n",
       "    <tr>\n",
       "      <th>4</th>\n",
       "      <td>Nothing Phone (2) 12/512GB Blanco Libre</td>\n",
       "      <td>Nothing</td>\n",
       "      <td>Phone (2)</td>\n",
       "      <td>12.0</td>\n",
       "      <td>512.0</td>\n",
       "      <td>White</td>\n",
       "      <td>799.00</td>\n",
       "    </tr>\n",
       "  </tbody>\n",
       "</table>\n",
       "</div>"
      ],
      "text/plain": [
       "                                     Smartphone     Brand           Model  \\\n",
       "0            Realme C55 8/256GB Sunshower Libre    Realme             C55   \n",
       "1      Samsung Galaxy M23 5G 4/128GB Azul Libre   Samsung      Galaxy M23   \n",
       "2  Motorola Moto G13 4/128GB Azul Lavanda Libre  Motorola        Moto G13   \n",
       "3      Xiaomi Redmi Note 11S 6/128GB Gris Libre    Xiaomi  Redmi Note 11S   \n",
       "4       Nothing Phone (2) 12/512GB Blanco Libre   Nothing       Phone (2)   \n",
       "\n",
       "    RAM  Storage   Color  Final Price  \n",
       "0   8.0    256.0  Yellow       231.60  \n",
       "1   4.0    128.0    Blue       279.00  \n",
       "2   4.0    128.0    Blue       179.01  \n",
       "3   6.0    128.0    Gray       279.99  \n",
       "4  12.0    512.0   White       799.00  "
      ]
     },
     "execution_count": 12,
     "metadata": {},
     "output_type": "execute_result"
    }
   ],
   "source": [
    "df.head()"
   ]
  },
  {
   "cell_type": "code",
   "execution_count": 13,
   "id": "976e1907-f969-48fe-8fe8-ed57b6c82fca",
   "metadata": {},
   "outputs": [],
   "source": [
    "encoded_RAM = imputer.fit_transform(df[[\"RAM\"]])\n",
    "df['RAM'] = encoded_RAM"
   ]
  },
  {
   "cell_type": "code",
   "execution_count": 105,
   "id": "b407e282-d351-49e5-b60e-4a55eec831d5",
   "metadata": {},
   "outputs": [
    {
     "data": {
      "text/html": [
       "<div>\n",
       "<style scoped>\n",
       "    .dataframe tbody tr th:only-of-type {\n",
       "        vertical-align: middle;\n",
       "    }\n",
       "\n",
       "    .dataframe tbody tr th {\n",
       "        vertical-align: top;\n",
       "    }\n",
       "\n",
       "    .dataframe thead th {\n",
       "        text-align: right;\n",
       "    }\n",
       "</style>\n",
       "<table border=\"1\" class=\"dataframe\">\n",
       "  <thead>\n",
       "    <tr style=\"text-align: right;\">\n",
       "      <th></th>\n",
       "      <th>RAM</th>\n",
       "      <th>Storage</th>\n",
       "      <th>Final Price</th>\n",
       "      <th>Galaxy</th>\n",
       "      <th>Redmi</th>\n",
       "      <th>Oppo</th>\n",
       "      <th>Realme</th>\n",
       "      <th>Xiaomi</th>\n",
       "      <th>iPhone</th>\n",
       "      <th>5G</th>\n",
       "      <th>Blue</th>\n",
       "      <th>Gray</th>\n",
       "      <th>Black</th>\n",
       "      <th>Green</th>\n",
       "      <th>Silver</th>\n",
       "      <th>White</th>\n",
       "      <th>Gold</th>\n",
       "      <th>Purple</th>\n",
       "    </tr>\n",
       "  </thead>\n",
       "  <tbody>\n",
       "    <tr>\n",
       "      <th>119</th>\n",
       "      <td>8.0</td>\n",
       "      <td>128.0</td>\n",
       "      <td>909.00</td>\n",
       "      <td>0</td>\n",
       "      <td>0</td>\n",
       "      <td>0</td>\n",
       "      <td>0</td>\n",
       "      <td>0</td>\n",
       "      <td>1</td>\n",
       "      <td>0</td>\n",
       "      <td>0.0</td>\n",
       "      <td>0.0</td>\n",
       "      <td>0.0</td>\n",
       "      <td>0.0</td>\n",
       "      <td>0.0</td>\n",
       "      <td>0.0</td>\n",
       "      <td>0.0</td>\n",
       "      <td>1.0</td>\n",
       "    </tr>\n",
       "    <tr>\n",
       "      <th>492</th>\n",
       "      <td>8.0</td>\n",
       "      <td>64.0</td>\n",
       "      <td>269.00</td>\n",
       "      <td>0</td>\n",
       "      <td>0</td>\n",
       "      <td>0</td>\n",
       "      <td>0</td>\n",
       "      <td>0</td>\n",
       "      <td>1</td>\n",
       "      <td>0</td>\n",
       "      <td>0.0</td>\n",
       "      <td>0.0</td>\n",
       "      <td>0.0</td>\n",
       "      <td>1.0</td>\n",
       "      <td>0.0</td>\n",
       "      <td>0.0</td>\n",
       "      <td>0.0</td>\n",
       "      <td>0.0</td>\n",
       "    </tr>\n",
       "    <tr>\n",
       "      <th>1207</th>\n",
       "      <td>8.0</td>\n",
       "      <td>128.0</td>\n",
       "      <td>140.00</td>\n",
       "      <td>0</td>\n",
       "      <td>0</td>\n",
       "      <td>0</td>\n",
       "      <td>0</td>\n",
       "      <td>0</td>\n",
       "      <td>1</td>\n",
       "      <td>0</td>\n",
       "      <td>0.0</td>\n",
       "      <td>0.0</td>\n",
       "      <td>1.0</td>\n",
       "      <td>0.0</td>\n",
       "      <td>0.0</td>\n",
       "      <td>0.0</td>\n",
       "      <td>0.0</td>\n",
       "      <td>0.0</td>\n",
       "    </tr>\n",
       "    <tr>\n",
       "      <th>1010</th>\n",
       "      <td>8.0</td>\n",
       "      <td>256.0</td>\n",
       "      <td>376.77</td>\n",
       "      <td>0</td>\n",
       "      <td>0</td>\n",
       "      <td>0</td>\n",
       "      <td>0</td>\n",
       "      <td>0</td>\n",
       "      <td>0</td>\n",
       "      <td>1</td>\n",
       "      <td>1.0</td>\n",
       "      <td>0.0</td>\n",
       "      <td>0.0</td>\n",
       "      <td>0.0</td>\n",
       "      <td>0.0</td>\n",
       "      <td>0.0</td>\n",
       "      <td>0.0</td>\n",
       "      <td>0.0</td>\n",
       "    </tr>\n",
       "    <tr>\n",
       "      <th>392</th>\n",
       "      <td>8.0</td>\n",
       "      <td>256.0</td>\n",
       "      <td>623.00</td>\n",
       "      <td>0</td>\n",
       "      <td>0</td>\n",
       "      <td>0</td>\n",
       "      <td>0</td>\n",
       "      <td>1</td>\n",
       "      <td>0</td>\n",
       "      <td>1</td>\n",
       "      <td>0.0</td>\n",
       "      <td>1.0</td>\n",
       "      <td>0.0</td>\n",
       "      <td>0.0</td>\n",
       "      <td>0.0</td>\n",
       "      <td>0.0</td>\n",
       "      <td>0.0</td>\n",
       "      <td>0.0</td>\n",
       "    </tr>\n",
       "  </tbody>\n",
       "</table>\n",
       "</div>"
      ],
      "text/plain": [
       "      RAM  Storage  Final Price  Galaxy  Redmi  Oppo  Realme  Xiaomi  iPhone  \\\n",
       "119   8.0    128.0       909.00       0      0     0       0       0       1   \n",
       "492   8.0     64.0       269.00       0      0     0       0       0       1   \n",
       "1207  8.0    128.0       140.00       0      0     0       0       0       1   \n",
       "1010  8.0    256.0       376.77       0      0     0       0       0       0   \n",
       "392   8.0    256.0       623.00       0      0     0       0       1       0   \n",
       "\n",
       "      5G  Blue  Gray  Black  Green  Silver  White  Gold  Purple  \n",
       "119    0   0.0   0.0    0.0    0.0     0.0    0.0   0.0     1.0  \n",
       "492    0   0.0   0.0    0.0    1.0     0.0    0.0   0.0     0.0  \n",
       "1207   0   0.0   0.0    1.0    0.0     0.0    0.0   0.0     0.0  \n",
       "1010   1   1.0   0.0    0.0    0.0     0.0    0.0   0.0     0.0  \n",
       "392    1   0.0   1.0    0.0    0.0     0.0    0.0   0.0     0.0  "
      ]
     },
     "execution_count": 105,
     "metadata": {},
     "output_type": "execute_result"
    }
   ],
   "source": [
    "df.sample(5)"
   ]
  },
  {
   "cell_type": "code",
   "execution_count": 15,
   "id": "71290fe3-5e44-4953-a61d-15354faf4098",
   "metadata": {},
   "outputs": [
    {
     "data": {
      "text/plain": [
       "Smartphone     0\n",
       "Brand          0\n",
       "Model          0\n",
       "RAM            0\n",
       "Storage        0\n",
       "Color          0\n",
       "Final Price    0\n",
       "dtype: int64"
      ]
     },
     "execution_count": 15,
     "metadata": {},
     "output_type": "execute_result"
    }
   ],
   "source": [
    "df.isnull().sum()"
   ]
  },
  {
   "cell_type": "markdown",
   "id": "55ec8920-d43f-4cd1-b5ad-2a5fde726474",
   "metadata": {},
   "source": [
    "<h1>EDA perform</h1>"
   ]
  },
  {
   "cell_type": "code",
   "execution_count": 16,
   "id": "e5ee741d-efbf-46a8-bd6e-3038a72958b2",
   "metadata": {},
   "outputs": [
    {
     "data": {
      "text/plain": [
       "<Axes: xlabel='Storage', ylabel='Final Price'>"
      ]
     },
     "execution_count": 16,
     "metadata": {},
     "output_type": "execute_result"
    },
    {
     "data": {
      "image/png": "[encoded data removed]",
      "text/plain": [
       "<Figure size 640x480 with 1 Axes>"
      ]
     },
     "metadata": {},
     "output_type": "display_data"
    }
   ],
   "source": [
    "sns.scatterplot(x=df[\"Storage\"],y=df[\"Final Price\"])"
   ]
  },
  {
   "cell_type": "code",
   "execution_count": 17,
   "id": "54014e1e-d6d5-492f-be22-4206400ae3c1",
   "metadata": {},
   "outputs": [
    {
     "data": {
      "text/plain": [
       "<Axes: xlabel='RAM', ylabel='Final Price'>"
      ]
     },
     "execution_count": 17,
     "metadata": {},
     "output_type": "execute_result"
    },
    {
     "data": {
      "image/png": "[encoded data removed]",
      "text/plain": [
       "<Figure size 640x480 with 1 Axes>"
      ]
     },
     "metadata": {},
     "output_type": "display_data"
    }
   ],
   "source": [
    "sns.scatterplot(x=df[\"RAM\"],y=df[\"Final Price\"])"
   ]
  },
  {
   "cell_type": "code",
   "execution_count": 18,
   "id": "4b485924-5a48-4596-9930-e5294827f2f5",
   "metadata": {},
   "outputs": [
    {
     "data": {
      "text/plain": [
       "<Axes: xlabel='RAM', ylabel='Storage'>"
      ]
     },
     "execution_count": 18,
     "metadata": {},
     "output_type": "execute_result"
    },
    {
     "data": {
      "image/png": "[encoded data removed]",
      "text/plain": [
       "<Figure size 640x480 with 1 Axes>"
      ]
     },
     "metadata": {},
     "output_type": "display_data"
    }
   ],
   "source": [
    "sns.scatterplot(x=df[\"RAM\"],y=df[\"Storage\"])"
   ]
  },
  {
   "cell_type": "code",
   "execution_count": 19,
   "id": "c38367a5-f9ba-43f4-b313-c78af8ff909d",
   "metadata": {},
   "outputs": [
    {
     "data": {
      "text/plain": [
       "<seaborn.axisgrid.FacetGrid at 0x1266a0c10>"
      ]
     },
     "execution_count": 19,
     "metadata": {},
     "output_type": "execute_result"
    },
    {
     "data": {
      "image/png": "[encoded data removed]",
      "text/plain": [
       "<Figure size 500x500 with 1 Axes>"
      ]
     },
     "metadata": {},
     "output_type": "display_data"
    }
   ],
   "source": [
    "sns.displot(df[\"Storage\"],kde=True,legend=True)"
   ]
  },
  {
   "cell_type": "code",
   "execution_count": 20,
   "id": "94187b84-1a1b-4c93-8718-ab577416784f",
   "metadata": {},
   "outputs": [
    {
     "data": {
      "text/plain": [
       "<seaborn.axisgrid.FacetGrid at 0x126627d60>"
      ]
     },
     "execution_count": 20,
     "metadata": {},
     "output_type": "execute_result"
    },
    {
     "data": {
      "image/png": "[encoded data removed]",
      "text/plain": [
       "<Figure size 500x500 with 1 Axes>"
      ]
     },
     "metadata": {},
     "output_type": "display_data"
    }
   ],
   "source": [
    "sns.displot(df[\"RAM\"],kde=True,legend=True)"
   ]
  },
  {
   "cell_type": "code",
   "execution_count": 21,
   "id": "3e3e16ea-6bcd-460b-a853-997a076e0884",
   "metadata": {},
   "outputs": [
    {
     "data": {
      "text/plain": [
       "<seaborn.axisgrid.FacetGrid at 0x12675f370>"
      ]
     },
     "execution_count": 21,
     "metadata": {},
     "output_type": "execute_result"
    },
    {
     "data": {
      "image/png": "[encoded data removed]",
      "text/plain": [
       "<Figure size 500x500 with 1 Axes>"
      ]
     },
     "metadata": {},
     "output_type": "display_data"
    }
   ],
   "source": [
    "sns.displot(df[\"Final Price\"],kde=True,legend=True)"
   ]
  },
  {
   "cell_type": "code",
   "execution_count": 22,
   "id": "c4751746-1547-48bb-9883-30ffd69b60ad",
   "metadata": {},
   "outputs": [
    {
     "data": {
      "image/png": "[encoded data removed]",
      "text/plain": [
       "<Figure size 640x480 with 1 Axes>"
      ]
     },
     "metadata": {},
     "output_type": "display_data"
    }
   ],
   "source": [
    "sns.countplot(x=\"Brand\",data=df,legend=True)\n",
    "plt.xticks(rotation='vertical')\n",
    "plt.show()"
   ]
  },
  {
   "cell_type": "code",
   "execution_count": 23,
   "id": "4e84f1d2-49a0-41e2-912d-f14e80be8138",
   "metadata": {},
   "outputs": [
    {
     "data": {
      "text/plain": [
       "1816"
      ]
     },
     "execution_count": 23,
     "metadata": {},
     "output_type": "execute_result"
    }
   ],
   "source": [
    "df[\"Model\"].value_counts().sum()"
   ]
  },
  {
   "cell_type": "code",
   "execution_count": 24,
   "id": "2f68f67d-2521-4e10-89d8-c2327c2461e7",
   "metadata": {},
   "outputs": [
    {
     "data": {
      "image/png": "[encoded data removed]",
      "text/plain": [
       "<Figure size 640x480 with 1 Axes>"
      ]
     },
     "metadata": {},
     "output_type": "display_data"
    }
   ],
   "source": [
    "sns.countplot(x=\"Model\",data=df,legend=True)\n",
    "plt.xticks(rotation='vertical')\n",
    "plt.show()"
   ]
  },
  {
   "cell_type": "code",
   "execution_count": 25,
   "id": "6132278a-11fb-4100-9dc3-aed025ac1938",
   "metadata": {},
   "outputs": [
    {
     "data": {
      "image/png": "[encoded data removed]",
      "text/plain": [
       "<Figure size 640x480 with 1 Axes>"
      ]
     },
     "metadata": {},
     "output_type": "display_data"
    }
   ],
   "source": [
    "sns.countplot(x=\"Color\",data=df,legend=True)\n",
    "plt.xticks(rotation='vertical')\n",
    "plt.show()"
   ]
  },
  {
   "cell_type": "code",
   "execution_count": 26,
   "id": "10ae44b4-22e6-48a8-86f4-cd5312ab8439",
   "metadata": {},
   "outputs": [],
   "source": [
    "df[\"Galaxy\"] = df[\"Model\"].apply(lambda x:1 if \"Galaxy\" in x else 0)\n",
    "df[\"iPhone\"] = df[\"Model\"].apply(lambda x:1 if \"iPhone\" in x else 0)"
   ]
  },
  {
   "cell_type": "code",
   "execution_count": 27,
   "id": "6268fbe2-f122-4bfd-9638-fff620f9eb76",
   "metadata": {},
   "outputs": [
    {
     "data": {
      "text/plain": [
       "Model\n",
       "iPhone 13       60\n",
       "iPhone 14       59\n",
       "iPhone 12       54\n",
       "Galaxy S23      53\n",
       "11 Pro          46\n",
       "                ..\n",
       "Jasper 2         1\n",
       "A53s             1\n",
       "G21              1\n",
       "A57              1\n",
       "Pocophone F2     1\n",
       "Name: count, Length: 383, dtype: int64"
      ]
     },
     "execution_count": 27,
     "metadata": {},
     "output_type": "execute_result"
    }
   ],
   "source": [
    "df['Model'].value_counts()"
   ]
  },
  {
   "cell_type": "code",
   "execution_count": 28,
   "id": "f26b3101-28a9-4fe4-bdcf-3ed8435cb873",
   "metadata": {},
   "outputs": [
    {
     "data": {
      "text/html": [
       "<div>\n",
       "<style scoped>\n",
       "    .dataframe tbody tr th:only-of-type {\n",
       "        vertical-align: middle;\n",
       "    }\n",
       "\n",
       "    .dataframe tbody tr th {\n",
       "        vertical-align: top;\n",
       "    }\n",
       "\n",
       "    .dataframe thead th {\n",
       "        text-align: right;\n",
       "    }\n",
       "</style>\n",
       "<table border=\"1\" class=\"dataframe\">\n",
       "  <thead>\n",
       "    <tr style=\"text-align: right;\">\n",
       "      <th></th>\n",
       "      <th>Smartphone</th>\n",
       "      <th>Brand</th>\n",
       "      <th>Model</th>\n",
       "      <th>RAM</th>\n",
       "      <th>Storage</th>\n",
       "      <th>Color</th>\n",
       "      <th>Final Price</th>\n",
       "      <th>Galaxy</th>\n",
       "      <th>iPhone</th>\n",
       "    </tr>\n",
       "  </thead>\n",
       "  <tbody>\n",
       "    <tr>\n",
       "      <th>171</th>\n",
       "      <td>Vivo Y35 8/256GB Dawn Gold Libre</td>\n",
       "      <td>Vivo</td>\n",
       "      <td>Y35</td>\n",
       "      <td>8.0</td>\n",
       "      <td>256.0</td>\n",
       "      <td>Gold</td>\n",
       "      <td>267.99</td>\n",
       "      <td>0</td>\n",
       "      <td>0</td>\n",
       "    </tr>\n",
       "    <tr>\n",
       "      <th>938</th>\n",
       "      <td>Xiaomi Redmi 10A 2/32GB Plata Libre</td>\n",
       "      <td>Xiaomi</td>\n",
       "      <td>Redmi 10A</td>\n",
       "      <td>2.0</td>\n",
       "      <td>32.0</td>\n",
       "      <td>Silver</td>\n",
       "      <td>96.22</td>\n",
       "      <td>0</td>\n",
       "      <td>0</td>\n",
       "    </tr>\n",
       "    <tr>\n",
       "      <th>1402</th>\n",
       "      <td>Huawei P30 Pro New Edition 8/256GB Plata Libre</td>\n",
       "      <td>Huawei</td>\n",
       "      <td>P30</td>\n",
       "      <td>8.0</td>\n",
       "      <td>256.0</td>\n",
       "      <td>Silver</td>\n",
       "      <td>999.00</td>\n",
       "      <td>0</td>\n",
       "      <td>0</td>\n",
       "    </tr>\n",
       "    <tr>\n",
       "      <th>1190</th>\n",
       "      <td>ZTE Blade A52 Lite 2/32GB Verde Libre</td>\n",
       "      <td>ZTE</td>\n",
       "      <td>Blade A52</td>\n",
       "      <td>2.0</td>\n",
       "      <td>32.0</td>\n",
       "      <td>Green</td>\n",
       "      <td>109.00</td>\n",
       "      <td>0</td>\n",
       "      <td>0</td>\n",
       "    </tr>\n",
       "    <tr>\n",
       "      <th>1560</th>\n",
       "      <td>Samsung Galaxy S20 FE 5G 6/128GB Blanco Libre</td>\n",
       "      <td>Samsung</td>\n",
       "      <td>Galaxy S20</td>\n",
       "      <td>6.0</td>\n",
       "      <td>128.0</td>\n",
       "      <td>White</td>\n",
       "      <td>649.00</td>\n",
       "      <td>1</td>\n",
       "      <td>0</td>\n",
       "    </tr>\n",
       "  </tbody>\n",
       "</table>\n",
       "</div>"
      ],
      "text/plain": [
       "                                          Smartphone    Brand       Model  \\\n",
       "171                 Vivo Y35 8/256GB Dawn Gold Libre     Vivo         Y35   \n",
       "938              Xiaomi Redmi 10A 2/32GB Plata Libre   Xiaomi   Redmi 10A   \n",
       "1402  Huawei P30 Pro New Edition 8/256GB Plata Libre   Huawei         P30   \n",
       "1190           ZTE Blade A52 Lite 2/32GB Verde Libre      ZTE   Blade A52   \n",
       "1560   Samsung Galaxy S20 FE 5G 6/128GB Blanco Libre  Samsung  Galaxy S20   \n",
       "\n",
       "      RAM  Storage   Color  Final Price  Galaxy  iPhone  \n",
       "171   8.0    256.0    Gold       267.99       0       0  \n",
       "938   2.0     32.0  Silver        96.22       0       0  \n",
       "1402  8.0    256.0  Silver       999.00       0       0  \n",
       "1190  2.0     32.0   Green       109.00       0       0  \n",
       "1560  6.0    128.0   White       649.00       1       0  "
      ]
     },
     "execution_count": 28,
     "metadata": {},
     "output_type": "execute_result"
    }
   ],
   "source": [
    "df.sample(5)"
   ]
  },
  {
   "cell_type": "code",
   "execution_count": 29,
   "id": "fb67b876-1d6a-48d0-b6e9-8db988ddfa15",
   "metadata": {},
   "outputs": [
    {
     "data": {
      "text/plain": [
       "<Axes: xlabel='Galaxy'>"
      ]
     },
     "execution_count": 29,
     "metadata": {},
     "output_type": "execute_result"
    },
    {
     "data": {
      "image/png": "[encoded data removed]",
      "text/plain": [
       "<Figure size 640x480 with 1 Axes>"
      ]
     },
     "metadata": {},
     "output_type": "display_data"
    }
   ],
   "source": [
    "df[\"Galaxy\"].value_counts().plot(kind=\"bar\")"
   ]
  },
  {
   "cell_type": "code",
   "execution_count": 30,
   "id": "2ffee1d8-4970-4065-89d8-d31bf5274a8c",
   "metadata": {},
   "outputs": [
    {
     "data": {
      "text/plain": [
       "<Axes: xlabel='iPhone', ylabel='Final Price'>"
      ]
     },
     "execution_count": 30,
     "metadata": {},
     "output_type": "execute_result"
    },
    {
     "data": {
      "image/png": "[encoded data removed]",
      "text/plain": [
       "<Figure size 640x480 with 1 Axes>"
      ]
     },
     "metadata": {},
     "output_type": "display_data"
    }
   ],
   "source": [
    "sns.barplot(x=df[\"iPhone\"],y=df[\"Final Price\"],hue=df[\"Color\"])"
   ]
  },
  {
   "cell_type": "code",
   "execution_count": 31,
   "id": "215dc0ee-a886-426f-826e-1833788c725d",
   "metadata": {},
   "outputs": [
    {
     "data": {
      "text/plain": [
       "<Axes: xlabel='Brand'>"
      ]
     },
     "execution_count": 31,
     "metadata": {},
     "output_type": "execute_result"
    },
    {
     "data": {
      "image/png": "[encoded data removed]",
      "text/plain": [
       "<Figure size 640x480 with 1 Axes>"
      ]
     },
     "metadata": {},
     "output_type": "display_data"
    }
   ],
   "source": [
    "df[\"Brand\"].value_counts().plot(kind=\"bar\")"
   ]
  },
  {
   "cell_type": "code",
   "execution_count": 32,
   "id": "304d8683-bb58-42a7-8b3c-c7f71f17a157",
   "metadata": {},
   "outputs": [
    {
     "data": {
      "text/plain": [
       "<Axes: ylabel='count'>"
      ]
     },
     "execution_count": 32,
     "metadata": {},
     "output_type": "execute_result"
    },
    {
     "data": {
      "image/png": "[encoded data removed]",
      "text/plain": [
       "<Figure size 640x480 with 1 Axes>"
      ]
     },
     "metadata": {},
     "output_type": "display_data"
    }
   ],
   "source": [
    "df[\"Brand\"].value_counts().plot(kind=\"pie\")"
   ]
  },
  {
   "cell_type": "code",
   "execution_count": 33,
   "id": "4ae5cb06-5220-4dea-9ef5-de75f4dadd0b",
   "metadata": {},
   "outputs": [
    {
     "data": {
      "text/plain": [
       "37"
      ]
     },
     "execution_count": 33,
     "metadata": {},
     "output_type": "execute_result"
    }
   ],
   "source": [
    "len(df[\"Brand\"].unique())"
   ]
  },
  {
   "cell_type": "code",
   "execution_count": 34,
   "id": "4ff8d40b-8e4d-43b6-8815-c9a19c4a36b0",
   "metadata": {},
   "outputs": [],
   "source": [
    "top_brands = df['Brand'].value_counts().nlargest(6).index.tolist()"
   ]
  },
  {
   "cell_type": "code",
   "execution_count": 35,
   "id": "a017412e-8345-42f4-aa30-426b23b97316",
   "metadata": {},
   "outputs": [
    {
     "data": {
      "text/plain": [
       "['Samsung', 'Xiaomi', 'Apple', 'Realme', 'OPPO', 'POCO']"
      ]
     },
     "execution_count": 35,
     "metadata": {},
     "output_type": "execute_result"
    }
   ],
   "source": [
    "top_brands"
   ]
  },
  {
   "cell_type": "code",
   "execution_count": 36,
   "id": "f3389023-9027-424b-af9c-be5565e3914c",
   "metadata": {},
   "outputs": [],
   "source": [
    "df = df[df['Brand'].isin(top_brands)]"
   ]
  },
  {
   "cell_type": "code",
   "execution_count": 37,
   "id": "ff89ff72-5b63-48f6-ac3a-f08dd16a4271",
   "metadata": {},
   "outputs": [
    {
     "data": {
      "text/plain": [
       "Smartphone     0\n",
       "Brand          0\n",
       "Model          0\n",
       "RAM            0\n",
       "Storage        0\n",
       "Color          0\n",
       "Final Price    0\n",
       "Galaxy         0\n",
       "iPhone         0\n",
       "dtype: int64"
      ]
     },
     "execution_count": 37,
     "metadata": {},
     "output_type": "execute_result"
    }
   ],
   "source": [
    "df.isnull().sum()"
   ]
  },
  {
   "cell_type": "code",
   "execution_count": 38,
   "id": "01de32b2-2364-4ae6-b865-ecebeb0f9256",
   "metadata": {},
   "outputs": [
    {
     "data": {
      "text/plain": [
       "array(['Realme', 'Samsung', 'Xiaomi', 'POCO', 'Apple', 'OPPO'],\n",
       "      dtype=object)"
      ]
     },
     "execution_count": 38,
     "metadata": {},
     "output_type": "execute_result"
    }
   ],
   "source": [
    "df['Brand'].unique()"
   ]
  },
  {
   "cell_type": "code",
   "execution_count": 39,
   "id": "1bcec3b1-3ac3-4594-b133-681d2ba3642c",
   "metadata": {},
   "outputs": [
    {
     "data": {
      "text/plain": [
       "<Axes: xlabel='Brand'>"
      ]
     },
     "execution_count": 39,
     "metadata": {},
     "output_type": "execute_result"
    },
    {
     "data": {
      "image/png": "[encoded data removed]",
      "text/plain": [
       "<Figure size 640x480 with 1 Axes>"
      ]
     },
     "metadata": {},
     "output_type": "display_data"
    }
   ],
   "source": [
    "df['Brand'].value_counts().plot(kind=\"bar\")"
   ]
  },
  {
   "cell_type": "code",
   "execution_count": 40,
   "id": "ac9bc36d-7d9b-46ee-b5d5-64796313ed88",
   "metadata": {},
   "outputs": [
    {
     "data": {
      "text/html": [
       "<div>\n",
       "<style scoped>\n",
       "    .dataframe tbody tr th:only-of-type {\n",
       "        vertical-align: middle;\n",
       "    }\n",
       "\n",
       "    .dataframe tbody tr th {\n",
       "        vertical-align: top;\n",
       "    }\n",
       "\n",
       "    .dataframe thead th {\n",
       "        text-align: right;\n",
       "    }\n",
       "</style>\n",
       "<table border=\"1\" class=\"dataframe\">\n",
       "  <thead>\n",
       "    <tr style=\"text-align: right;\">\n",
       "      <th></th>\n",
       "      <th>Smartphone</th>\n",
       "      <th>Brand</th>\n",
       "      <th>Model</th>\n",
       "      <th>RAM</th>\n",
       "      <th>Storage</th>\n",
       "      <th>Color</th>\n",
       "      <th>Final Price</th>\n",
       "      <th>Galaxy</th>\n",
       "      <th>iPhone</th>\n",
       "    </tr>\n",
       "  </thead>\n",
       "  <tbody>\n",
       "    <tr>\n",
       "      <th>465</th>\n",
       "      <td>Samsung Galaxy S21 FE 5G 8/256GB Gris Libre</td>\n",
       "      <td>Samsung</td>\n",
       "      <td>Galaxy S21</td>\n",
       "      <td>8.0</td>\n",
       "      <td>256.0</td>\n",
       "      <td>Gray</td>\n",
       "      <td>649.00</td>\n",
       "      <td>1</td>\n",
       "      <td>0</td>\n",
       "    </tr>\n",
       "    <tr>\n",
       "      <th>354</th>\n",
       "      <td>POCO X5 Pro 5G 8/256GB Amarillo Libre</td>\n",
       "      <td>POCO</td>\n",
       "      <td>X5 Pro</td>\n",
       "      <td>8.0</td>\n",
       "      <td>256.0</td>\n",
       "      <td>Yellow</td>\n",
       "      <td>399.99</td>\n",
       "      <td>0</td>\n",
       "      <td>0</td>\n",
       "    </tr>\n",
       "    <tr>\n",
       "      <th>69</th>\n",
       "      <td>Xiaomi Redmi Note 12 4/64GB Azul Libre + Cable...</td>\n",
       "      <td>Xiaomi</td>\n",
       "      <td>Redmi Note 12</td>\n",
       "      <td>4.0</td>\n",
       "      <td>64.0</td>\n",
       "      <td>Blue</td>\n",
       "      <td>229.00</td>\n",
       "      <td>0</td>\n",
       "      <td>0</td>\n",
       "    </tr>\n",
       "    <tr>\n",
       "      <th>897</th>\n",
       "      <td>Xiaomi Redmi 10 4/64GB Gris Libre</td>\n",
       "      <td>Xiaomi</td>\n",
       "      <td>Redmi 10</td>\n",
       "      <td>4.0</td>\n",
       "      <td>64.0</td>\n",
       "      <td>Gray</td>\n",
       "      <td>229.94</td>\n",
       "      <td>0</td>\n",
       "      <td>0</td>\n",
       "    </tr>\n",
       "    <tr>\n",
       "      <th>1660</th>\n",
       "      <td>Xiaomi Mi 9 Lite 6/128GB Azul Boreal Libre</td>\n",
       "      <td>Xiaomi</td>\n",
       "      <td>Mi 9</td>\n",
       "      <td>6.0</td>\n",
       "      <td>128.0</td>\n",
       "      <td>Blue</td>\n",
       "      <td>358.01</td>\n",
       "      <td>0</td>\n",
       "      <td>0</td>\n",
       "    </tr>\n",
       "  </tbody>\n",
       "</table>\n",
       "</div>"
      ],
      "text/plain": [
       "                                             Smartphone    Brand  \\\n",
       "465         Samsung Galaxy S21 FE 5G 8/256GB Gris Libre  Samsung   \n",
       "354               POCO X5 Pro 5G 8/256GB Amarillo Libre     POCO   \n",
       "69    Xiaomi Redmi Note 12 4/64GB Azul Libre + Cable...   Xiaomi   \n",
       "897                   Xiaomi Redmi 10 4/64GB Gris Libre   Xiaomi   \n",
       "1660         Xiaomi Mi 9 Lite 6/128GB Azul Boreal Libre   Xiaomi   \n",
       "\n",
       "              Model  RAM  Storage   Color  Final Price  Galaxy  iPhone  \n",
       "465      Galaxy S21  8.0    256.0    Gray       649.00       1       0  \n",
       "354          X5 Pro  8.0    256.0  Yellow       399.99       0       0  \n",
       "69    Redmi Note 12  4.0     64.0    Blue       229.00       0       0  \n",
       "897        Redmi 10  4.0     64.0    Gray       229.94       0       0  \n",
       "1660           Mi 9  6.0    128.0    Blue       358.01       0       0  "
      ]
     },
     "execution_count": 40,
     "metadata": {},
     "output_type": "execute_result"
    }
   ],
   "source": [
    "df.sample(5)"
   ]
  },
  {
   "cell_type": "code",
   "execution_count": 41,
   "id": "64e04ec3-e4a3-49fb-b9ed-9742f5cfe17e",
   "metadata": {},
   "outputs": [],
   "source": [
    "top_colors = df['Color'].value_counts().nlargest(8).index.tolist()\n",
    "df = df[df[\"Color\"].isin(top_colors)]"
   ]
  },
  {
   "cell_type": "code",
   "execution_count": 42,
   "id": "c13cf5e3-fdf8-4c52-afae-2557736a7050",
   "metadata": {},
   "outputs": [
    {
     "data": {
      "text/html": [
       "<div>\n",
       "<style scoped>\n",
       "    .dataframe tbody tr th:only-of-type {\n",
       "        vertical-align: middle;\n",
       "    }\n",
       "\n",
       "    .dataframe tbody tr th {\n",
       "        vertical-align: top;\n",
       "    }\n",
       "\n",
       "    .dataframe thead th {\n",
       "        text-align: right;\n",
       "    }\n",
       "</style>\n",
       "<table border=\"1\" class=\"dataframe\">\n",
       "  <thead>\n",
       "    <tr style=\"text-align: right;\">\n",
       "      <th></th>\n",
       "      <th>Smartphone</th>\n",
       "      <th>Brand</th>\n",
       "      <th>Model</th>\n",
       "      <th>RAM</th>\n",
       "      <th>Storage</th>\n",
       "      <th>Color</th>\n",
       "      <th>Final Price</th>\n",
       "      <th>Galaxy</th>\n",
       "      <th>iPhone</th>\n",
       "    </tr>\n",
       "  </thead>\n",
       "  <tbody>\n",
       "    <tr>\n",
       "      <th>1</th>\n",
       "      <td>Samsung Galaxy M23 5G 4/128GB Azul Libre</td>\n",
       "      <td>Samsung</td>\n",
       "      <td>Galaxy M23</td>\n",
       "      <td>4.0</td>\n",
       "      <td>128.0</td>\n",
       "      <td>Blue</td>\n",
       "      <td>279.00</td>\n",
       "      <td>1</td>\n",
       "      <td>0</td>\n",
       "    </tr>\n",
       "    <tr>\n",
       "      <th>3</th>\n",
       "      <td>Xiaomi Redmi Note 11S 6/128GB Gris Libre</td>\n",
       "      <td>Xiaomi</td>\n",
       "      <td>Redmi Note 11S</td>\n",
       "      <td>6.0</td>\n",
       "      <td>128.0</td>\n",
       "      <td>Gray</td>\n",
       "      <td>279.99</td>\n",
       "      <td>0</td>\n",
       "      <td>0</td>\n",
       "    </tr>\n",
       "    <tr>\n",
       "      <th>7</th>\n",
       "      <td>Realme 9 Pro 5G 8/128GB Negro Libre</td>\n",
       "      <td>Realme</td>\n",
       "      <td>9 Pro</td>\n",
       "      <td>8.0</td>\n",
       "      <td>128.0</td>\n",
       "      <td>Black</td>\n",
       "      <td>352.59</td>\n",
       "      <td>0</td>\n",
       "      <td>0</td>\n",
       "    </tr>\n",
       "    <tr>\n",
       "      <th>8</th>\n",
       "      <td>Samsung Galaxy M23 5G 4/128GB Verde Libre</td>\n",
       "      <td>Samsung</td>\n",
       "      <td>Galaxy M23</td>\n",
       "      <td>4.0</td>\n",
       "      <td>128.0</td>\n",
       "      <td>Green</td>\n",
       "      <td>279.00</td>\n",
       "      <td>1</td>\n",
       "      <td>0</td>\n",
       "    </tr>\n",
       "    <tr>\n",
       "      <th>9</th>\n",
       "      <td>Xiaomi Redmi Note 12 Pro 8/256GB Gris Grafito ...</td>\n",
       "      <td>Xiaomi</td>\n",
       "      <td>Redmi Note 12</td>\n",
       "      <td>8.0</td>\n",
       "      <td>256.0</td>\n",
       "      <td>Gray</td>\n",
       "      <td>329.99</td>\n",
       "      <td>0</td>\n",
       "      <td>0</td>\n",
       "    </tr>\n",
       "  </tbody>\n",
       "</table>\n",
       "</div>"
      ],
      "text/plain": [
       "                                          Smartphone    Brand           Model  \\\n",
       "1           Samsung Galaxy M23 5G 4/128GB Azul Libre  Samsung      Galaxy M23   \n",
       "3           Xiaomi Redmi Note 11S 6/128GB Gris Libre   Xiaomi  Redmi Note 11S   \n",
       "7                Realme 9 Pro 5G 8/128GB Negro Libre   Realme           9 Pro   \n",
       "8          Samsung Galaxy M23 5G 4/128GB Verde Libre  Samsung      Galaxy M23   \n",
       "9  Xiaomi Redmi Note 12 Pro 8/256GB Gris Grafito ...   Xiaomi   Redmi Note 12   \n",
       "\n",
       "   RAM  Storage  Color  Final Price  Galaxy  iPhone  \n",
       "1  4.0    128.0   Blue       279.00       1       0  \n",
       "3  6.0    128.0   Gray       279.99       0       0  \n",
       "7  8.0    128.0  Black       352.59       0       0  \n",
       "8  4.0    128.0  Green       279.00       1       0  \n",
       "9  8.0    256.0   Gray       329.99       0       0  "
      ]
     },
     "execution_count": 42,
     "metadata": {},
     "output_type": "execute_result"
    }
   ],
   "source": [
    "df.head()"
   ]
  },
  {
   "cell_type": "code",
   "execution_count": 43,
   "id": "dabebee9-020e-4279-a823-a92a6c246123",
   "metadata": {},
   "outputs": [
    {
     "data": {
      "text/plain": [
       "(1262, 9)"
      ]
     },
     "execution_count": 43,
     "metadata": {},
     "output_type": "execute_result"
    }
   ],
   "source": [
    "df.shape"
   ]
  },
  {
   "cell_type": "code",
   "execution_count": 44,
   "id": "1dcc05d8-6891-468d-9c1c-3d4d498e8b9c",
   "metadata": {},
   "outputs": [
    {
     "data": {
      "text/plain": [
       "<Axes: xlabel='Color'>"
      ]
     },
     "execution_count": 44,
     "metadata": {},
     "output_type": "execute_result"
    },
    {
     "data": {
      "image/png": "[encoded data removed]",
      "text/plain": [
       "<Figure size 640x480 with 1 Axes>"
      ]
     },
     "metadata": {},
     "output_type": "display_data"
    }
   ],
   "source": [
    "df[\"Color\"].value_counts().plot(kind=\"bar\")"
   ]
  },
  {
   "cell_type": "code",
   "execution_count": 45,
   "id": "0c310df4-af69-4283-883c-58105e7caba8",
   "metadata": {},
   "outputs": [],
   "source": [
    "df[\"Redmi\"] = df[\"Model\"].apply(lambda x:1 if \"Redmi\" in x else 0)"
   ]
  },
  {
   "cell_type": "code",
   "execution_count": 46,
   "id": "fcf68ee8-5812-4bf7-b483-800a2f82ac19",
   "metadata": {},
   "outputs": [
    {
     "data": {
      "text/html": [
       "<div>\n",
       "<style scoped>\n",
       "    .dataframe tbody tr th:only-of-type {\n",
       "        vertical-align: middle;\n",
       "    }\n",
       "\n",
       "    .dataframe tbody tr th {\n",
       "        vertical-align: top;\n",
       "    }\n",
       "\n",
       "    .dataframe thead th {\n",
       "        text-align: right;\n",
       "    }\n",
       "</style>\n",
       "<table border=\"1\" class=\"dataframe\">\n",
       "  <thead>\n",
       "    <tr style=\"text-align: right;\">\n",
       "      <th></th>\n",
       "      <th>Smartphone</th>\n",
       "      <th>Brand</th>\n",
       "      <th>Model</th>\n",
       "      <th>RAM</th>\n",
       "      <th>Storage</th>\n",
       "      <th>Color</th>\n",
       "      <th>Final Price</th>\n",
       "      <th>Galaxy</th>\n",
       "      <th>iPhone</th>\n",
       "      <th>Redmi</th>\n",
       "    </tr>\n",
       "  </thead>\n",
       "  <tbody>\n",
       "    <tr>\n",
       "      <th>1685</th>\n",
       "      <td>Xiaomi Redmi 9C 4/128GB Azul Libre</td>\n",
       "      <td>Xiaomi</td>\n",
       "      <td>Redmi 9C</td>\n",
       "      <td>4.0</td>\n",
       "      <td>128.0</td>\n",
       "      <td>Blue</td>\n",
       "      <td>179.99</td>\n",
       "      <td>0</td>\n",
       "      <td>0</td>\n",
       "      <td>1</td>\n",
       "    </tr>\n",
       "    <tr>\n",
       "      <th>1123</th>\n",
       "      <td>Oppo Reno2 Z 8/128GB Luminous Black Libre</td>\n",
       "      <td>OPPO</td>\n",
       "      <td>Reno2 Z</td>\n",
       "      <td>8.0</td>\n",
       "      <td>128.0</td>\n",
       "      <td>Black</td>\n",
       "      <td>184.00</td>\n",
       "      <td>0</td>\n",
       "      <td>0</td>\n",
       "      <td>0</td>\n",
       "    </tr>\n",
       "    <tr>\n",
       "      <th>468</th>\n",
       "      <td>Oppo A54 5G 4/64GB Morado Libre</td>\n",
       "      <td>OPPO</td>\n",
       "      <td>A54</td>\n",
       "      <td>4.0</td>\n",
       "      <td>64.0</td>\n",
       "      <td>Purple</td>\n",
       "      <td>269.00</td>\n",
       "      <td>0</td>\n",
       "      <td>0</td>\n",
       "      <td>0</td>\n",
       "    </tr>\n",
       "    <tr>\n",
       "      <th>570</th>\n",
       "      <td>Samsung Galaxy S23 Plus 256GB Lila Libre + Car...</td>\n",
       "      <td>Samsung</td>\n",
       "      <td>Galaxy S23</td>\n",
       "      <td>8.0</td>\n",
       "      <td>256.0</td>\n",
       "      <td>Purple</td>\n",
       "      <td>1209.00</td>\n",
       "      <td>1</td>\n",
       "      <td>0</td>\n",
       "      <td>0</td>\n",
       "    </tr>\n",
       "    <tr>\n",
       "      <th>1799</th>\n",
       "      <td>Xiaomi Mi 10T Lite 5G 6/64GB Azul Libre</td>\n",
       "      <td>Xiaomi</td>\n",
       "      <td>Mi 10T</td>\n",
       "      <td>6.0</td>\n",
       "      <td>64.0</td>\n",
       "      <td>Blue</td>\n",
       "      <td>350.00</td>\n",
       "      <td>0</td>\n",
       "      <td>0</td>\n",
       "      <td>0</td>\n",
       "    </tr>\n",
       "    <tr>\n",
       "      <th>1691</th>\n",
       "      <td>Xiaomi Redmi Note 10 5G 4/128Gb Gris Libre</td>\n",
       "      <td>Xiaomi</td>\n",
       "      <td>Redmi Note 10</td>\n",
       "      <td>4.0</td>\n",
       "      <td>128.0</td>\n",
       "      <td>Gray</td>\n",
       "      <td>1000.00</td>\n",
       "      <td>0</td>\n",
       "      <td>0</td>\n",
       "      <td>1</td>\n",
       "    </tr>\n",
       "    <tr>\n",
       "      <th>1801</th>\n",
       "      <td>Xiaomi Mi Note 10 6/128GB Blanco Libre</td>\n",
       "      <td>Xiaomi</td>\n",
       "      <td>Mi Note 10</td>\n",
       "      <td>6.0</td>\n",
       "      <td>128.0</td>\n",
       "      <td>White</td>\n",
       "      <td>240.00</td>\n",
       "      <td>0</td>\n",
       "      <td>0</td>\n",
       "      <td>0</td>\n",
       "    </tr>\n",
       "    <tr>\n",
       "      <th>1588</th>\n",
       "      <td>Samsung Galaxy S8 64GB Negro Libre versión esp...</td>\n",
       "      <td>Samsung</td>\n",
       "      <td>Galaxy S8</td>\n",
       "      <td>8.0</td>\n",
       "      <td>64.0</td>\n",
       "      <td>Black</td>\n",
       "      <td>368.57</td>\n",
       "      <td>1</td>\n",
       "      <td>0</td>\n",
       "      <td>0</td>\n",
       "    </tr>\n",
       "    <tr>\n",
       "      <th>88</th>\n",
       "      <td>Apple iPhone 14 Pro 128GB Negro Espacial Libre</td>\n",
       "      <td>Apple</td>\n",
       "      <td>iPhone 14</td>\n",
       "      <td>8.0</td>\n",
       "      <td>128.0</td>\n",
       "      <td>Black</td>\n",
       "      <td>1319.00</td>\n",
       "      <td>0</td>\n",
       "      <td>1</td>\n",
       "      <td>0</td>\n",
       "    </tr>\n",
       "    <tr>\n",
       "      <th>136</th>\n",
       "      <td>Apple iPhone 14 Pro 256GB Morado Oscuro Libre</td>\n",
       "      <td>Apple</td>\n",
       "      <td>iPhone 14</td>\n",
       "      <td>8.0</td>\n",
       "      <td>256.0</td>\n",
       "      <td>Purple</td>\n",
       "      <td>1449.00</td>\n",
       "      <td>0</td>\n",
       "      <td>1</td>\n",
       "      <td>0</td>\n",
       "    </tr>\n",
       "  </tbody>\n",
       "</table>\n",
       "</div>"
      ],
      "text/plain": [
       "                                             Smartphone    Brand  \\\n",
       "1685                 Xiaomi Redmi 9C 4/128GB Azul Libre   Xiaomi   \n",
       "1123          Oppo Reno2 Z 8/128GB Luminous Black Libre     OPPO   \n",
       "468                     Oppo A54 5G 4/64GB Morado Libre     OPPO   \n",
       "570   Samsung Galaxy S23 Plus 256GB Lila Libre + Car...  Samsung   \n",
       "1799            Xiaomi Mi 10T Lite 5G 6/64GB Azul Libre   Xiaomi   \n",
       "1691         Xiaomi Redmi Note 10 5G 4/128Gb Gris Libre   Xiaomi   \n",
       "1801             Xiaomi Mi Note 10 6/128GB Blanco Libre   Xiaomi   \n",
       "1588  Samsung Galaxy S8 64GB Negro Libre versión esp...  Samsung   \n",
       "88       Apple iPhone 14 Pro 128GB Negro Espacial Libre    Apple   \n",
       "136       Apple iPhone 14 Pro 256GB Morado Oscuro Libre    Apple   \n",
       "\n",
       "              Model  RAM  Storage   Color  Final Price  Galaxy  iPhone  Redmi  \n",
       "1685       Redmi 9C  4.0    128.0    Blue       179.99       0       0      1  \n",
       "1123        Reno2 Z  8.0    128.0   Black       184.00       0       0      0  \n",
       "468             A54  4.0     64.0  Purple       269.00       0       0      0  \n",
       "570      Galaxy S23  8.0    256.0  Purple      1209.00       1       0      0  \n",
       "1799         Mi 10T  6.0     64.0    Blue       350.00       0       0      0  \n",
       "1691  Redmi Note 10  4.0    128.0    Gray      1000.00       0       0      1  \n",
       "1801     Mi Note 10  6.0    128.0   White       240.00       0       0      0  \n",
       "1588      Galaxy S8  8.0     64.0   Black       368.57       1       0      0  \n",
       "88        iPhone 14  8.0    128.0   Black      1319.00       0       1      0  \n",
       "136       iPhone 14  8.0    256.0  Purple      1449.00       0       1      0  "
      ]
     },
     "execution_count": 46,
     "metadata": {},
     "output_type": "execute_result"
    }
   ],
   "source": [
    "df.sample(10)"
   ]
  },
  {
   "cell_type": "code",
   "execution_count": 47,
   "id": "f120925d-b6f8-4e3a-b5ef-7304e3e8a4e0",
   "metadata": {},
   "outputs": [],
   "source": [
    "df[\"Oppo\"] = df[df[\"Brand\"] == \"OPPO\"][\"Model\"].apply(lambda x: f'Oppo {x}').apply(lambda x: 1 if 'Oppo' in x else 0)"
   ]
  },
  {
   "cell_type": "code",
   "execution_count": 48,
   "id": "17f4e3d4-f0ca-48c7-8abf-5c205412f11b",
   "metadata": {},
   "outputs": [
    {
     "data": {
      "text/plain": [
       "1173"
      ]
     },
     "execution_count": 48,
     "metadata": {},
     "output_type": "execute_result"
    }
   ],
   "source": [
    "df[\"Oppo\"].isnull().sum()"
   ]
  },
  {
   "cell_type": "code",
   "execution_count": 49,
   "id": "5f0c0c11-abb2-4559-a197-601be2b5662f",
   "metadata": {},
   "outputs": [],
   "source": [
    "df[\"Oppo\"] = df[\"Oppo\"].fillna(0)"
   ]
  },
  {
   "cell_type": "code",
   "execution_count": 50,
   "id": "3954b031-5dac-4e37-869a-91af6213cefa",
   "metadata": {},
   "outputs": [
    {
     "data": {
      "text/html": [
       "<div>\n",
       "<style scoped>\n",
       "    .dataframe tbody tr th:only-of-type {\n",
       "        vertical-align: middle;\n",
       "    }\n",
       "\n",
       "    .dataframe tbody tr th {\n",
       "        vertical-align: top;\n",
       "    }\n",
       "\n",
       "    .dataframe thead th {\n",
       "        text-align: right;\n",
       "    }\n",
       "</style>\n",
       "<table border=\"1\" class=\"dataframe\">\n",
       "  <thead>\n",
       "    <tr style=\"text-align: right;\">\n",
       "      <th></th>\n",
       "      <th>Smartphone</th>\n",
       "      <th>Brand</th>\n",
       "      <th>Model</th>\n",
       "      <th>RAM</th>\n",
       "      <th>Storage</th>\n",
       "      <th>Color</th>\n",
       "      <th>Final Price</th>\n",
       "      <th>Galaxy</th>\n",
       "      <th>iPhone</th>\n",
       "      <th>Redmi</th>\n",
       "      <th>Oppo</th>\n",
       "    </tr>\n",
       "  </thead>\n",
       "  <tbody>\n",
       "    <tr>\n",
       "      <th>1266</th>\n",
       "      <td>Samsung Galaxy A52s 5G 6/128GB Violeta Libre</td>\n",
       "      <td>Samsung</td>\n",
       "      <td>Galaxy A52s</td>\n",
       "      <td>6.0</td>\n",
       "      <td>128.0</td>\n",
       "      <td>Purple</td>\n",
       "      <td>339.00</td>\n",
       "      <td>1</td>\n",
       "      <td>0</td>\n",
       "      <td>0</td>\n",
       "      <td>0.0</td>\n",
       "    </tr>\n",
       "    <tr>\n",
       "      <th>906</th>\n",
       "      <td>Samsung Galaxy A14 4/128GB Negro Libre Versión...</td>\n",
       "      <td>Samsung</td>\n",
       "      <td>Galaxy A14</td>\n",
       "      <td>4.0</td>\n",
       "      <td>128.0</td>\n",
       "      <td>Black</td>\n",
       "      <td>193.49</td>\n",
       "      <td>1</td>\n",
       "      <td>0</td>\n",
       "      <td>0</td>\n",
       "      <td>0.0</td>\n",
       "    </tr>\n",
       "    <tr>\n",
       "      <th>717</th>\n",
       "      <td>Xiaomi Redmi 10 2022 4/128GB Blanco Libre</td>\n",
       "      <td>Xiaomi</td>\n",
       "      <td>Redmi 10</td>\n",
       "      <td>4.0</td>\n",
       "      <td>128.0</td>\n",
       "      <td>White</td>\n",
       "      <td>240.84</td>\n",
       "      <td>0</td>\n",
       "      <td>0</td>\n",
       "      <td>1</td>\n",
       "      <td>0.0</td>\n",
       "    </tr>\n",
       "    <tr>\n",
       "      <th>1711</th>\n",
       "      <td>Xiaomi Redmi Note 9 Pro 6/64GB Gris Interestel...</td>\n",
       "      <td>Xiaomi</td>\n",
       "      <td>9 Pro</td>\n",
       "      <td>6.0</td>\n",
       "      <td>64.0</td>\n",
       "      <td>Gray</td>\n",
       "      <td>265.00</td>\n",
       "      <td>0</td>\n",
       "      <td>0</td>\n",
       "      <td>0</td>\n",
       "      <td>0.0</td>\n",
       "    </tr>\n",
       "    <tr>\n",
       "      <th>655</th>\n",
       "      <td>Apple iPhone 11 128GB Blanco Libre</td>\n",
       "      <td>Apple</td>\n",
       "      <td>iPhone 11</td>\n",
       "      <td>8.0</td>\n",
       "      <td>128.0</td>\n",
       "      <td>White</td>\n",
       "      <td>429.01</td>\n",
       "      <td>0</td>\n",
       "      <td>1</td>\n",
       "      <td>0</td>\n",
       "      <td>0.0</td>\n",
       "    </tr>\n",
       "  </tbody>\n",
       "</table>\n",
       "</div>"
      ],
      "text/plain": [
       "                                             Smartphone    Brand        Model  \\\n",
       "1266       Samsung Galaxy A52s 5G 6/128GB Violeta Libre  Samsung  Galaxy A52s   \n",
       "906   Samsung Galaxy A14 4/128GB Negro Libre Versión...  Samsung   Galaxy A14   \n",
       "717           Xiaomi Redmi 10 2022 4/128GB Blanco Libre   Xiaomi     Redmi 10   \n",
       "1711  Xiaomi Redmi Note 9 Pro 6/64GB Gris Interestel...   Xiaomi        9 Pro   \n",
       "655                  Apple iPhone 11 128GB Blanco Libre    Apple    iPhone 11   \n",
       "\n",
       "      RAM  Storage   Color  Final Price  Galaxy  iPhone  Redmi  Oppo  \n",
       "1266  6.0    128.0  Purple       339.00       1       0      0   0.0  \n",
       "906   4.0    128.0   Black       193.49       1       0      0   0.0  \n",
       "717   4.0    128.0   White       240.84       0       0      1   0.0  \n",
       "1711  6.0     64.0    Gray       265.00       0       0      0   0.0  \n",
       "655   8.0    128.0   White       429.01       0       1      0   0.0  "
      ]
     },
     "execution_count": 50,
     "metadata": {},
     "output_type": "execute_result"
    }
   ],
   "source": [
    "df.sample(5)"
   ]
  },
  {
   "cell_type": "code",
   "execution_count": 51,
   "id": "d9e261e0-1bd7-4762-82f5-c674cd07af86",
   "metadata": {},
   "outputs": [],
   "source": [
    "df[\"Oppo\"] = df[\"Oppo\"].astype(int)"
   ]
  },
  {
   "cell_type": "code",
   "execution_count": 52,
   "id": "45519eee-59c2-41f6-a4dc-88cf1ed55153",
   "metadata": {},
   "outputs": [
    {
     "data": {
      "text/plain": [
       "Smartphone     0\n",
       "Brand          0\n",
       "Model          0\n",
       "RAM            0\n",
       "Storage        0\n",
       "Color          0\n",
       "Final Price    0\n",
       "Galaxy         0\n",
       "iPhone         0\n",
       "Redmi          0\n",
       "Oppo           0\n",
       "dtype: int64"
      ]
     },
     "execution_count": 52,
     "metadata": {},
     "output_type": "execute_result"
    }
   ],
   "source": [
    "df.isnull().sum()"
   ]
  },
  {
   "cell_type": "code",
   "execution_count": 53,
   "id": "697de0fb-d6bd-4485-83ad-ad89c0242330",
   "metadata": {},
   "outputs": [
    {
     "data": {
      "text/html": [
       "<div>\n",
       "<style scoped>\n",
       "    .dataframe tbody tr th:only-of-type {\n",
       "        vertical-align: middle;\n",
       "    }\n",
       "\n",
       "    .dataframe tbody tr th {\n",
       "        vertical-align: top;\n",
       "    }\n",
       "\n",
       "    .dataframe thead th {\n",
       "        text-align: right;\n",
       "    }\n",
       "</style>\n",
       "<table border=\"1\" class=\"dataframe\">\n",
       "  <thead>\n",
       "    <tr style=\"text-align: right;\">\n",
       "      <th></th>\n",
       "      <th>Smartphone</th>\n",
       "      <th>Brand</th>\n",
       "      <th>Model</th>\n",
       "      <th>RAM</th>\n",
       "      <th>Storage</th>\n",
       "      <th>Color</th>\n",
       "      <th>Final Price</th>\n",
       "      <th>Galaxy</th>\n",
       "      <th>iPhone</th>\n",
       "      <th>Redmi</th>\n",
       "      <th>Oppo</th>\n",
       "    </tr>\n",
       "  </thead>\n",
       "  <tbody>\n",
       "    <tr>\n",
       "      <th>191</th>\n",
       "      <td>Apple iPhone 12 Pro 256GB Azul Pacífico Libre</td>\n",
       "      <td>Apple</td>\n",
       "      <td>iPhone 12</td>\n",
       "      <td>8.0</td>\n",
       "      <td>256.0</td>\n",
       "      <td>Blue</td>\n",
       "      <td>669.00</td>\n",
       "      <td>0</td>\n",
       "      <td>1</td>\n",
       "      <td>0</td>\n",
       "      <td>0</td>\n",
       "    </tr>\n",
       "    <tr>\n",
       "      <th>1068</th>\n",
       "      <td>Apple iPhone 11 Pro Max 512GB Gris Espacial Libre</td>\n",
       "      <td>Apple</td>\n",
       "      <td>11 Pro</td>\n",
       "      <td>8.0</td>\n",
       "      <td>512.0</td>\n",
       "      <td>Gray</td>\n",
       "      <td>607.00</td>\n",
       "      <td>0</td>\n",
       "      <td>0</td>\n",
       "      <td>0</td>\n",
       "      <td>0</td>\n",
       "    </tr>\n",
       "    <tr>\n",
       "      <th>1454</th>\n",
       "      <td>Oppo A54s 4/128GB Azul Libre</td>\n",
       "      <td>OPPO</td>\n",
       "      <td>A54s</td>\n",
       "      <td>4.0</td>\n",
       "      <td>128.0</td>\n",
       "      <td>Blue</td>\n",
       "      <td>294.36</td>\n",
       "      <td>0</td>\n",
       "      <td>0</td>\n",
       "      <td>0</td>\n",
       "      <td>1</td>\n",
       "    </tr>\n",
       "    <tr>\n",
       "      <th>583</th>\n",
       "      <td>Apple iPhone 13 Pro 128GB Oro Libre</td>\n",
       "      <td>Apple</td>\n",
       "      <td>iPhone 13</td>\n",
       "      <td>8.0</td>\n",
       "      <td>128.0</td>\n",
       "      <td>Gold</td>\n",
       "      <td>1159.00</td>\n",
       "      <td>0</td>\n",
       "      <td>1</td>\n",
       "      <td>0</td>\n",
       "      <td>0</td>\n",
       "    </tr>\n",
       "    <tr>\n",
       "      <th>161</th>\n",
       "      <td>Xiaomi Redmi 12 4/128GB Negro Medianoche Libre</td>\n",
       "      <td>Xiaomi</td>\n",
       "      <td>Redmi 12</td>\n",
       "      <td>4.0</td>\n",
       "      <td>128.0</td>\n",
       "      <td>Black</td>\n",
       "      <td>144.95</td>\n",
       "      <td>0</td>\n",
       "      <td>0</td>\n",
       "      <td>1</td>\n",
       "      <td>0</td>\n",
       "    </tr>\n",
       "  </tbody>\n",
       "</table>\n",
       "</div>"
      ],
      "text/plain": [
       "                                             Smartphone   Brand      Model  \\\n",
       "191       Apple iPhone 12 Pro 256GB Azul Pacífico Libre   Apple  iPhone 12   \n",
       "1068  Apple iPhone 11 Pro Max 512GB Gris Espacial Libre   Apple     11 Pro   \n",
       "1454                       Oppo A54s 4/128GB Azul Libre    OPPO       A54s   \n",
       "583                 Apple iPhone 13 Pro 128GB Oro Libre   Apple  iPhone 13   \n",
       "161      Xiaomi Redmi 12 4/128GB Negro Medianoche Libre  Xiaomi   Redmi 12   \n",
       "\n",
       "      RAM  Storage  Color  Final Price  Galaxy  iPhone  Redmi  Oppo  \n",
       "191   8.0    256.0   Blue       669.00       0       1      0     0  \n",
       "1068  8.0    512.0   Gray       607.00       0       0      0     0  \n",
       "1454  4.0    128.0   Blue       294.36       0       0      0     1  \n",
       "583   8.0    128.0   Gold      1159.00       0       1      0     0  \n",
       "161   4.0    128.0  Black       144.95       0       0      1     0  "
      ]
     },
     "execution_count": 53,
     "metadata": {},
     "output_type": "execute_result"
    }
   ],
   "source": [
    "df.sample(5)"
   ]
  },
  {
   "cell_type": "code",
   "execution_count": 54,
   "id": "aba80dbc-8712-4c06-8c50-dd1b83426acd",
   "metadata": {},
   "outputs": [],
   "source": [
    "df[\"Realme\"] = df[df[\"Brand\"] == \"Realme\"][\"Model\"].apply(lambda x: f'Realme {x}').apply(lambda x: 1 if 'Realme' in x else 0)\n",
    "df[\"Realme\"] = df[\"Realme\"].fillna(0)\n",
    "df[\"Realme\"] = df[\"Realme\"].astype(int)"
   ]
  },
  {
   "cell_type": "code",
   "execution_count": 55,
   "id": "64804be2-5397-4fae-bfcb-17be258467ff",
   "metadata": {},
   "outputs": [
    {
     "data": {
      "text/html": [
       "<div>\n",
       "<style scoped>\n",
       "    .dataframe tbody tr th:only-of-type {\n",
       "        vertical-align: middle;\n",
       "    }\n",
       "\n",
       "    .dataframe tbody tr th {\n",
       "        vertical-align: top;\n",
       "    }\n",
       "\n",
       "    .dataframe thead th {\n",
       "        text-align: right;\n",
       "    }\n",
       "</style>\n",
       "<table border=\"1\" class=\"dataframe\">\n",
       "  <thead>\n",
       "    <tr style=\"text-align: right;\">\n",
       "      <th></th>\n",
       "      <th>Smartphone</th>\n",
       "      <th>Brand</th>\n",
       "      <th>Model</th>\n",
       "      <th>RAM</th>\n",
       "      <th>Storage</th>\n",
       "      <th>Color</th>\n",
       "      <th>Final Price</th>\n",
       "      <th>Galaxy</th>\n",
       "      <th>iPhone</th>\n",
       "      <th>Redmi</th>\n",
       "      <th>Oppo</th>\n",
       "      <th>Realme</th>\n",
       "    </tr>\n",
       "  </thead>\n",
       "  <tbody>\n",
       "    <tr>\n",
       "      <th>1098</th>\n",
       "      <td>Apple iPhone XR 64GB Negro Libre</td>\n",
       "      <td>Apple</td>\n",
       "      <td>iPhone XR</td>\n",
       "      <td>8.0</td>\n",
       "      <td>64.0</td>\n",
       "      <td>Black</td>\n",
       "      <td>465.00</td>\n",
       "      <td>0</td>\n",
       "      <td>1</td>\n",
       "      <td>0</td>\n",
       "      <td>0</td>\n",
       "      <td>0</td>\n",
       "    </tr>\n",
       "    <tr>\n",
       "      <th>1557</th>\n",
       "      <td>Samsung Galaxy S20 12/128GB 5G Cloud Blue Libre</td>\n",
       "      <td>Samsung</td>\n",
       "      <td>Galaxy S20</td>\n",
       "      <td>12.0</td>\n",
       "      <td>128.0</td>\n",
       "      <td>Blue</td>\n",
       "      <td>719.12</td>\n",
       "      <td>1</td>\n",
       "      <td>0</td>\n",
       "      <td>0</td>\n",
       "      <td>0</td>\n",
       "      <td>0</td>\n",
       "    </tr>\n",
       "    <tr>\n",
       "      <th>717</th>\n",
       "      <td>Xiaomi Redmi 10 2022 4/128GB Blanco Libre</td>\n",
       "      <td>Xiaomi</td>\n",
       "      <td>Redmi 10</td>\n",
       "      <td>4.0</td>\n",
       "      <td>128.0</td>\n",
       "      <td>White</td>\n",
       "      <td>240.84</td>\n",
       "      <td>0</td>\n",
       "      <td>0</td>\n",
       "      <td>1</td>\n",
       "      <td>0</td>\n",
       "      <td>0</td>\n",
       "    </tr>\n",
       "    <tr>\n",
       "      <th>952</th>\n",
       "      <td>Xiaomi Redmi Note 9 4/128GB Verde Libre</td>\n",
       "      <td>Xiaomi</td>\n",
       "      <td>Redmi Note 9</td>\n",
       "      <td>4.0</td>\n",
       "      <td>128.0</td>\n",
       "      <td>Green</td>\n",
       "      <td>269.00</td>\n",
       "      <td>0</td>\n",
       "      <td>0</td>\n",
       "      <td>1</td>\n",
       "      <td>0</td>\n",
       "      <td>0</td>\n",
       "    </tr>\n",
       "    <tr>\n",
       "      <th>1554</th>\n",
       "      <td>Samsung Galaxy Note 9 128GB Negro Libre versió...</td>\n",
       "      <td>Samsung</td>\n",
       "      <td>Note 9</td>\n",
       "      <td>8.0</td>\n",
       "      <td>128.0</td>\n",
       "      <td>Black</td>\n",
       "      <td>522.28</td>\n",
       "      <td>0</td>\n",
       "      <td>0</td>\n",
       "      <td>0</td>\n",
       "      <td>0</td>\n",
       "      <td>0</td>\n",
       "    </tr>\n",
       "  </tbody>\n",
       "</table>\n",
       "</div>"
      ],
      "text/plain": [
       "                                             Smartphone    Brand  \\\n",
       "1098                   Apple iPhone XR 64GB Negro Libre    Apple   \n",
       "1557    Samsung Galaxy S20 12/128GB 5G Cloud Blue Libre  Samsung   \n",
       "717           Xiaomi Redmi 10 2022 4/128GB Blanco Libre   Xiaomi   \n",
       "952             Xiaomi Redmi Note 9 4/128GB Verde Libre   Xiaomi   \n",
       "1554  Samsung Galaxy Note 9 128GB Negro Libre versió...  Samsung   \n",
       "\n",
       "             Model   RAM  Storage  Color  Final Price  Galaxy  iPhone  Redmi  \\\n",
       "1098     iPhone XR   8.0     64.0  Black       465.00       0       1      0   \n",
       "1557    Galaxy S20  12.0    128.0   Blue       719.12       1       0      0   \n",
       "717       Redmi 10   4.0    128.0  White       240.84       0       0      1   \n",
       "952   Redmi Note 9   4.0    128.0  Green       269.00       0       0      1   \n",
       "1554        Note 9   8.0    128.0  Black       522.28       0       0      0   \n",
       "\n",
       "      Oppo  Realme  \n",
       "1098     0       0  \n",
       "1557     0       0  \n",
       "717      0       0  \n",
       "952      0       0  \n",
       "1554     0       0  "
      ]
     },
     "execution_count": 55,
     "metadata": {},
     "output_type": "execute_result"
    }
   ],
   "source": [
    "df.sample(5)"
   ]
  },
  {
   "cell_type": "code",
   "execution_count": 56,
   "id": "f185e0d2-3dbf-4b08-9276-9b979fd5f8ae",
   "metadata": {},
   "outputs": [],
   "source": [
    "df[\"Xiaomi\"] = df[df[\"Brand\"] == \"Xiaomi\"][\"Model\"].apply(lambda x: f'Xiaomi {x}').apply(lambda x: 1 if 'Xiaomi' in x else 0)\n",
    "df[\"Xiaomi\"] = df[\"Xiaomi\"].fillna(0)\n",
    "df[\"Xiaomi\"] = df[\"Xiaomi\"].astype(int)"
   ]
  },
  {
   "cell_type": "code",
   "execution_count": 57,
   "id": "7c5d1620-36f5-48ba-8692-f05cba92f8c5",
   "metadata": {},
   "outputs": [
    {
     "data": {
      "text/plain": [
       "745     iPhone 12\n",
       "770     iPhone 12\n",
       "167     iPhone 14\n",
       "538     iPhone 14\n",
       "1039    iPhone 13\n",
       "174     iPhone 14\n",
       "277     iPhone XS\n",
       "1176    iPhone 12\n",
       "116     iPhone 14\n",
       "993     iPhone 12\n",
       "1122       11 Pro\n",
       "1031    iPhone 12\n",
       "421        11 Pro\n",
       "485     iPhone 14\n",
       "1738    iPhone 6s\n",
       "789     iPhone 14\n",
       "389     iPhone 12\n",
       "309     iPhone XR\n",
       "757     iPhone 13\n",
       "804     iPhone 13\n",
       "Name: Model, dtype: object"
      ]
     },
     "execution_count": 57,
     "metadata": {},
     "output_type": "execute_result"
    }
   ],
   "source": [
    "df[df[\"Brand\"] == \"Apple\"][\"Model\"].sample(20)"
   ]
  },
  {
   "cell_type": "code",
   "execution_count": 58,
   "id": "d767bbfe-5c3b-4e0f-a083-e1ad8c42c127",
   "metadata": {},
   "outputs": [
    {
     "name": "stderr",
     "output_type": "stream",
     "text": [
      "/var/folders/25/n218mgyj6x1gybvn2ytyr2xc0000gp/T/ipykernel_3306/1822867903.py:2: FutureWarning: Downcasting object dtype arrays on .fillna, .ffill, .bfill is deprecated and will change in a future version. Call result.infer_objects(copy=False) instead. To opt-in to the future behavior, set `pd.set_option('future.no_silent_downcasting', True)`\n",
      "  df[\"iPhone\"] = df[\"iPhone\"].fillna(0)\n"
     ]
    }
   ],
   "source": [
    "df[\"iPhone\"] = df[df[\"Brand\"] == \"iPhone\"][\"Model\"].apply(lambda x: f'iPhone {x}').apply(lambda x: 1 if 'iPhone' in x else 0)\n",
    "df[\"iPhone\"] = df[\"iPhone\"].fillna(0)\n",
    "df[\"iPhone\"] = df[\"iPhone\"].astype(int)"
   ]
  },
  {
   "cell_type": "code",
   "execution_count": 59,
   "id": "04cb93af-ccfa-4f1d-88ad-ec58110fca9f",
   "metadata": {},
   "outputs": [
    {
     "data": {
      "text/html": [
       "<div>\n",
       "<style scoped>\n",
       "    .dataframe tbody tr th:only-of-type {\n",
       "        vertical-align: middle;\n",
       "    }\n",
       "\n",
       "    .dataframe tbody tr th {\n",
       "        vertical-align: top;\n",
       "    }\n",
       "\n",
       "    .dataframe thead th {\n",
       "        text-align: right;\n",
       "    }\n",
       "</style>\n",
       "<table border=\"1\" class=\"dataframe\">\n",
       "  <thead>\n",
       "    <tr style=\"text-align: right;\">\n",
       "      <th></th>\n",
       "      <th>Smartphone</th>\n",
       "      <th>Brand</th>\n",
       "      <th>Model</th>\n",
       "      <th>RAM</th>\n",
       "      <th>Storage</th>\n",
       "      <th>Color</th>\n",
       "      <th>Final Price</th>\n",
       "      <th>Galaxy</th>\n",
       "      <th>iPhone</th>\n",
       "      <th>Redmi</th>\n",
       "      <th>Oppo</th>\n",
       "      <th>Realme</th>\n",
       "      <th>Xiaomi</th>\n",
       "    </tr>\n",
       "  </thead>\n",
       "  <tbody>\n",
       "    <tr>\n",
       "      <th>485</th>\n",
       "      <td>Apple iPhone 14 Pro Max 512GB Morado Oscuro Libre</td>\n",
       "      <td>Apple</td>\n",
       "      <td>iPhone 14</td>\n",
       "      <td>8.0</td>\n",
       "      <td>512.0</td>\n",
       "      <td>Purple</td>\n",
       "      <td>1859.00</td>\n",
       "      <td>0</td>\n",
       "      <td>0</td>\n",
       "      <td>0</td>\n",
       "      <td>0</td>\n",
       "      <td>0</td>\n",
       "      <td>0</td>\n",
       "    </tr>\n",
       "    <tr>\n",
       "      <th>1721</th>\n",
       "      <td>realme 7 8/128GB Blanco Libre</td>\n",
       "      <td>Realme</td>\n",
       "      <td>7</td>\n",
       "      <td>8.0</td>\n",
       "      <td>128.0</td>\n",
       "      <td>White</td>\n",
       "      <td>195.00</td>\n",
       "      <td>0</td>\n",
       "      <td>0</td>\n",
       "      <td>0</td>\n",
       "      <td>0</td>\n",
       "      <td>1</td>\n",
       "      <td>0</td>\n",
       "    </tr>\n",
       "    <tr>\n",
       "      <th>258</th>\n",
       "      <td>Xiaomi Redmi 9C NFC 3/64GB Gris Libre</td>\n",
       "      <td>Xiaomi</td>\n",
       "      <td>Redmi 9C</td>\n",
       "      <td>3.0</td>\n",
       "      <td>64.0</td>\n",
       "      <td>Gray</td>\n",
       "      <td>101.14</td>\n",
       "      <td>0</td>\n",
       "      <td>0</td>\n",
       "      <td>1</td>\n",
       "      <td>0</td>\n",
       "      <td>0</td>\n",
       "      <td>1</td>\n",
       "    </tr>\n",
       "    <tr>\n",
       "      <th>465</th>\n",
       "      <td>Samsung Galaxy S21 FE 5G 8/256GB Gris Libre</td>\n",
       "      <td>Samsung</td>\n",
       "      <td>Galaxy S21</td>\n",
       "      <td>8.0</td>\n",
       "      <td>256.0</td>\n",
       "      <td>Gray</td>\n",
       "      <td>649.00</td>\n",
       "      <td>1</td>\n",
       "      <td>0</td>\n",
       "      <td>0</td>\n",
       "      <td>0</td>\n",
       "      <td>0</td>\n",
       "      <td>0</td>\n",
       "    </tr>\n",
       "    <tr>\n",
       "      <th>1292</th>\n",
       "      <td>Samsung Galaxy S20 Plus 12/128GB 5G Cloud Whit...</td>\n",
       "      <td>Samsung</td>\n",
       "      <td>Galaxy S20</td>\n",
       "      <td>12.0</td>\n",
       "      <td>128.0</td>\n",
       "      <td>White</td>\n",
       "      <td>319.00</td>\n",
       "      <td>1</td>\n",
       "      <td>0</td>\n",
       "      <td>0</td>\n",
       "      <td>0</td>\n",
       "      <td>0</td>\n",
       "      <td>0</td>\n",
       "    </tr>\n",
       "  </tbody>\n",
       "</table>\n",
       "</div>"
      ],
      "text/plain": [
       "                                             Smartphone    Brand       Model  \\\n",
       "485   Apple iPhone 14 Pro Max 512GB Morado Oscuro Libre    Apple   iPhone 14   \n",
       "1721                      realme 7 8/128GB Blanco Libre   Realme           7   \n",
       "258               Xiaomi Redmi 9C NFC 3/64GB Gris Libre   Xiaomi    Redmi 9C   \n",
       "465         Samsung Galaxy S21 FE 5G 8/256GB Gris Libre  Samsung  Galaxy S21   \n",
       "1292  Samsung Galaxy S20 Plus 12/128GB 5G Cloud Whit...  Samsung  Galaxy S20   \n",
       "\n",
       "       RAM  Storage   Color  Final Price  Galaxy  iPhone  Redmi  Oppo  Realme  \\\n",
       "485    8.0    512.0  Purple      1859.00       0       0      0     0       0   \n",
       "1721   8.0    128.0   White       195.00       0       0      0     0       1   \n",
       "258    3.0     64.0    Gray       101.14       0       0      1     0       0   \n",
       "465    8.0    256.0    Gray       649.00       1       0      0     0       0   \n",
       "1292  12.0    128.0   White       319.00       1       0      0     0       0   \n",
       "\n",
       "      Xiaomi  \n",
       "485        0  \n",
       "1721       0  \n",
       "258        1  \n",
       "465        0  \n",
       "1292       0  "
      ]
     },
     "execution_count": 59,
     "metadata": {},
     "output_type": "execute_result"
    }
   ],
   "source": [
    "df.sample(5)"
   ]
  },
  {
   "cell_type": "code",
   "execution_count": 60,
   "id": "ed0ef3ca-d3bc-4868-bece-8877489f2e6d",
   "metadata": {},
   "outputs": [],
   "source": [
    "df.drop(columns=['iPhone'],inplace=True)"
   ]
  },
  {
   "cell_type": "code",
   "execution_count": 61,
   "id": "d3794aff-e18b-4cba-8feb-28392f4cc480",
   "metadata": {},
   "outputs": [],
   "source": [
    "df[\"iPhone\"] = df[df[\"Brand\"] == \"Apple\"][\"Model\"].apply(lambda x: f'iPhone {x}').apply(lambda x: 1 if 'iPhone' in x else 0)\n",
    "df[\"iPhone\"] = df[\"iPhone\"].fillna(0)\n",
    "df[\"iPhone\"] = df[\"iPhone\"].astype(int)"
   ]
  },
  {
   "cell_type": "code",
   "execution_count": 62,
   "id": "2cfc0bec-f7e8-4b3a-ae7c-451ec749ce75",
   "metadata": {},
   "outputs": [],
   "source": [
    "df['Galaxy_Series'] = df[df[\"Brand\"] == \"Samsung\"][\"Model\"].apply(lambda x: f'Galaxy {x}' if 'Galaxy' not in x else x)"
   ]
  },
  {
   "cell_type": "code",
   "execution_count": 63,
   "id": "c3af1ed9-6276-4596-84c7-e4ec4e9e6fc9",
   "metadata": {},
   "outputs": [
    {
     "data": {
      "text/plain": [
       "1       1\n",
       "3       0\n",
       "7       1\n",
       "8       1\n",
       "9       0\n",
       "       ..\n",
       "1811    0\n",
       "1812    0\n",
       "1813    0\n",
       "1814    0\n",
       "1815    0\n",
       "Name: 5G, Length: 1262, dtype: int64"
      ]
     },
     "execution_count": 63,
     "metadata": {},
     "output_type": "execute_result"
    }
   ],
   "source": [
    "df[\"5G\"] = df[\"Smartphone\"].apply(lambda x: 1 if '5G' in x else 0)\n",
    "df[\"5G\"].fillna(0)"
   ]
  },
  {
   "cell_type": "code",
   "execution_count": 64,
   "id": "399b0870-f945-47d2-b8c9-aed25856a5ba",
   "metadata": {},
   "outputs": [
    {
     "data": {
      "text/plain": [
       "5G\n",
       "0    843\n",
       "1    419\n",
       "Name: count, dtype: int64"
      ]
     },
     "execution_count": 64,
     "metadata": {},
     "output_type": "execute_result"
    }
   ],
   "source": [
    "df.sample(5)\n",
    "df[\"5G\"].value_counts()"
   ]
  },
  {
   "cell_type": "code",
   "execution_count": 65,
   "id": "130d1947-6da5-481b-96b1-46a9798f52e1",
   "metadata": {},
   "outputs": [
    {
     "data": {
      "text/html": [
       "<div>\n",
       "<style scoped>\n",
       "    .dataframe tbody tr th:only-of-type {\n",
       "        vertical-align: middle;\n",
       "    }\n",
       "\n",
       "    .dataframe tbody tr th {\n",
       "        vertical-align: top;\n",
       "    }\n",
       "\n",
       "    .dataframe thead th {\n",
       "        text-align: right;\n",
       "    }\n",
       "</style>\n",
       "<table border=\"1\" class=\"dataframe\">\n",
       "  <thead>\n",
       "    <tr style=\"text-align: right;\">\n",
       "      <th></th>\n",
       "      <th>Smartphone</th>\n",
       "      <th>Brand</th>\n",
       "      <th>Model</th>\n",
       "      <th>RAM</th>\n",
       "      <th>Storage</th>\n",
       "      <th>Color</th>\n",
       "      <th>Final Price</th>\n",
       "      <th>Galaxy</th>\n",
       "      <th>Redmi</th>\n",
       "      <th>Oppo</th>\n",
       "      <th>Realme</th>\n",
       "      <th>Xiaomi</th>\n",
       "      <th>iPhone</th>\n",
       "      <th>Galaxy_Series</th>\n",
       "      <th>5G</th>\n",
       "    </tr>\n",
       "  </thead>\n",
       "  <tbody>\n",
       "    <tr>\n",
       "      <th>1731</th>\n",
       "      <td>Apple iPhone 13 Pro 512GB Azul Sierra Libre</td>\n",
       "      <td>Apple</td>\n",
       "      <td>iPhone 13</td>\n",
       "      <td>8.0</td>\n",
       "      <td>512.0</td>\n",
       "      <td>Blue</td>\n",
       "      <td>1509.00</td>\n",
       "      <td>0</td>\n",
       "      <td>0</td>\n",
       "      <td>0</td>\n",
       "      <td>0</td>\n",
       "      <td>0</td>\n",
       "      <td>1</td>\n",
       "      <td>NaN</td>\n",
       "      <td>0</td>\n",
       "    </tr>\n",
       "    <tr>\n",
       "      <th>469</th>\n",
       "      <td>Samsung Galaxy Note 10 Plus 256GB Aura Glow Libre</td>\n",
       "      <td>Samsung</td>\n",
       "      <td>Galaxy Note 10</td>\n",
       "      <td>8.0</td>\n",
       "      <td>256.0</td>\n",
       "      <td>Purple</td>\n",
       "      <td>810.78</td>\n",
       "      <td>1</td>\n",
       "      <td>0</td>\n",
       "      <td>0</td>\n",
       "      <td>0</td>\n",
       "      <td>0</td>\n",
       "      <td>0</td>\n",
       "      <td>Galaxy Note 10</td>\n",
       "      <td>0</td>\n",
       "    </tr>\n",
       "    <tr>\n",
       "      <th>698</th>\n",
       "      <td>Black Shark 5 Pro 12/256GB 5G Negro Libre</td>\n",
       "      <td>Xiaomi</td>\n",
       "      <td>Shark 5</td>\n",
       "      <td>12.0</td>\n",
       "      <td>256.0</td>\n",
       "      <td>Black</td>\n",
       "      <td>779.00</td>\n",
       "      <td>0</td>\n",
       "      <td>0</td>\n",
       "      <td>0</td>\n",
       "      <td>0</td>\n",
       "      <td>1</td>\n",
       "      <td>0</td>\n",
       "      <td>NaN</td>\n",
       "      <td>1</td>\n",
       "    </tr>\n",
       "    <tr>\n",
       "      <th>598</th>\n",
       "      <td>Apple iPhone XS Max 256Gb Gris Espacial Libre</td>\n",
       "      <td>Apple</td>\n",
       "      <td>iPhone XS</td>\n",
       "      <td>8.0</td>\n",
       "      <td>256.0</td>\n",
       "      <td>Gray</td>\n",
       "      <td>388.00</td>\n",
       "      <td>0</td>\n",
       "      <td>0</td>\n",
       "      <td>0</td>\n",
       "      <td>0</td>\n",
       "      <td>0</td>\n",
       "      <td>1</td>\n",
       "      <td>NaN</td>\n",
       "      <td>0</td>\n",
       "    </tr>\n",
       "    <tr>\n",
       "      <th>962</th>\n",
       "      <td>Xiaomi PocoPhone X3 Pro 6/128GB Negro Fantasma...</td>\n",
       "      <td>Xiaomi</td>\n",
       "      <td>X3</td>\n",
       "      <td>6.0</td>\n",
       "      <td>128.0</td>\n",
       "      <td>Black</td>\n",
       "      <td>364.63</td>\n",
       "      <td>0</td>\n",
       "      <td>0</td>\n",
       "      <td>0</td>\n",
       "      <td>0</td>\n",
       "      <td>1</td>\n",
       "      <td>0</td>\n",
       "      <td>NaN</td>\n",
       "      <td>0</td>\n",
       "    </tr>\n",
       "  </tbody>\n",
       "</table>\n",
       "</div>"
      ],
      "text/plain": [
       "                                             Smartphone    Brand  \\\n",
       "1731        Apple iPhone 13 Pro 512GB Azul Sierra Libre    Apple   \n",
       "469   Samsung Galaxy Note 10 Plus 256GB Aura Glow Libre  Samsung   \n",
       "698           Black Shark 5 Pro 12/256GB 5G Negro Libre   Xiaomi   \n",
       "598       Apple iPhone XS Max 256Gb Gris Espacial Libre    Apple   \n",
       "962   Xiaomi PocoPhone X3 Pro 6/128GB Negro Fantasma...   Xiaomi   \n",
       "\n",
       "               Model   RAM  Storage   Color  Final Price  Galaxy  Redmi  Oppo  \\\n",
       "1731       iPhone 13   8.0    512.0    Blue      1509.00       0      0     0   \n",
       "469   Galaxy Note 10   8.0    256.0  Purple       810.78       1      0     0   \n",
       "698          Shark 5  12.0    256.0   Black       779.00       0      0     0   \n",
       "598        iPhone XS   8.0    256.0    Gray       388.00       0      0     0   \n",
       "962               X3   6.0    128.0   Black       364.63       0      0     0   \n",
       "\n",
       "      Realme  Xiaomi  iPhone   Galaxy_Series  5G  \n",
       "1731       0       0       1             NaN   0  \n",
       "469        0       0       0  Galaxy Note 10   0  \n",
       "698        0       1       0             NaN   1  \n",
       "598        0       0       1             NaN   0  \n",
       "962        0       1       0             NaN   0  "
      ]
     },
     "execution_count": 65,
     "metadata": {},
     "output_type": "execute_result"
    }
   ],
   "source": [
    "df[\"Storage\"].astype('int')\n",
    "df[\"RAM\"].astype('int')\n",
    "df.sample(5)"
   ]
  },
  {
   "cell_type": "code",
   "execution_count": 66,
   "id": "995540b6-d551-41ef-a83b-53666e2ee4b2",
   "metadata": {},
   "outputs": [
    {
     "data": {
      "image/png": "[encoded data removed]",
      "text/plain": [
       "<Figure size 640x480 with 1 Axes>"
      ]
     },
     "metadata": {},
     "output_type": "display_data"
    },
    {
     "data": {
      "image/png": "[encoded data removed]",
      "text/plain": [
       "<Figure size 640x480 with 1 Axes>"
      ]
     },
     "metadata": {},
     "output_type": "display_data"
    },
    {
     "data": {
      "image/png": "[encoded data removed]",
      "text/plain": [
       "<Figure size 640x480 with 1 Axes>"
      ]
     },
     "metadata": {},
     "output_type": "display_data"
    },
    {
     "data": {
      "image/png": "[encoded data removed]",
      "text/plain": [
       "<Figure size 640x480 with 1 Axes>"
      ]
     },
     "metadata": {},
     "output_type": "display_data"
    },
    {
     "data": {
      "image/png": "[encoded data removed]",
      "text/plain": [
       "<Figure size 640x480 with 1 Axes>"
      ]
     },
     "metadata": {},
     "output_type": "display_data"
    }
   ],
   "source": [
    "rel = ['RAM','Storage','Color','Galaxy','iPhone']\n",
    "for i in rel:\n",
    "    sns.barplot(x=df[i],y=df[\"Final Price\"],hue=df[\"5G\"])\n",
    "    plt.show()\n"
   ]
  },
  {
   "cell_type": "code",
   "execution_count": 67,
   "id": "1f706220-a892-414e-b20b-78ba8a9eaf1f",
   "metadata": {},
   "outputs": [],
   "source": [
    "df[\"Galaxy_Series\"] = df[\"Model\"].apply(lambda x: x.split(' ')[1] if 'Galaxy S' in x else 'No')"
   ]
  },
  {
   "cell_type": "code",
   "execution_count": 68,
   "id": "4ab1b0c8-f3ed-4a11-8d31-bdb208fe7f8d",
   "metadata": {},
   "outputs": [
    {
     "data": {
      "text/plain": [
       "Galaxy_Series\n",
       "No     1106\n",
       "S23      53\n",
       "S21      34\n",
       "S22      28\n",
       "S20      27\n",
       "S10       7\n",
       "S8        5\n",
       "S9        2\n",
       "Name: count, dtype: int64"
      ]
     },
     "execution_count": 68,
     "metadata": {},
     "output_type": "execute_result"
    }
   ],
   "source": [
    "df[\"Galaxy_Series\"].value_counts()"
   ]
  },
  {
   "cell_type": "code",
   "execution_count": 69,
   "id": "2df54275-df85-49bb-b79c-a75bd5e4f552",
   "metadata": {},
   "outputs": [],
   "source": [
    "from sklearn.preprocessing import OneHotEncoder"
   ]
  },
  {
   "cell_type": "code",
   "execution_count": 70,
   "id": "286d417f-177d-4017-a062-5228b8d57c78",
   "metadata": {},
   "outputs": [
    {
     "data": {
      "text/html": [
       "<div>\n",
       "<style scoped>\n",
       "    .dataframe tbody tr th:only-of-type {\n",
       "        vertical-align: middle;\n",
       "    }\n",
       "\n",
       "    .dataframe tbody tr th {\n",
       "        vertical-align: top;\n",
       "    }\n",
       "\n",
       "    .dataframe thead th {\n",
       "        text-align: right;\n",
       "    }\n",
       "</style>\n",
       "<table border=\"1\" class=\"dataframe\">\n",
       "  <thead>\n",
       "    <tr style=\"text-align: right;\">\n",
       "      <th></th>\n",
       "      <th>Smartphone</th>\n",
       "      <th>Brand</th>\n",
       "      <th>Model</th>\n",
       "      <th>RAM</th>\n",
       "      <th>Storage</th>\n",
       "      <th>Color</th>\n",
       "      <th>Final Price</th>\n",
       "      <th>Galaxy</th>\n",
       "      <th>Redmi</th>\n",
       "      <th>Oppo</th>\n",
       "      <th>Realme</th>\n",
       "      <th>Xiaomi</th>\n",
       "      <th>iPhone</th>\n",
       "      <th>Galaxy_Series</th>\n",
       "      <th>5G</th>\n",
       "    </tr>\n",
       "  </thead>\n",
       "  <tbody>\n",
       "    <tr>\n",
       "      <th>714</th>\n",
       "      <td>Xiaomi Redmi 9C 4/128GB Gris Medianoche Libre</td>\n",
       "      <td>Xiaomi</td>\n",
       "      <td>Redmi 9C</td>\n",
       "      <td>4.0</td>\n",
       "      <td>128.0</td>\n",
       "      <td>Gray</td>\n",
       "      <td>196.26</td>\n",
       "      <td>0</td>\n",
       "      <td>1</td>\n",
       "      <td>0</td>\n",
       "      <td>0</td>\n",
       "      <td>1</td>\n",
       "      <td>0</td>\n",
       "      <td>No</td>\n",
       "      <td>0</td>\n",
       "    </tr>\n",
       "    <tr>\n",
       "      <th>179</th>\n",
       "      <td>Samsung Galaxy A54 5G 8/256GB Negro Libre + Pr...</td>\n",
       "      <td>Samsung</td>\n",
       "      <td>Galaxy A54</td>\n",
       "      <td>8.0</td>\n",
       "      <td>256.0</td>\n",
       "      <td>Black</td>\n",
       "      <td>549.00</td>\n",
       "      <td>1</td>\n",
       "      <td>0</td>\n",
       "      <td>0</td>\n",
       "      <td>0</td>\n",
       "      <td>0</td>\n",
       "      <td>0</td>\n",
       "      <td>No</td>\n",
       "      <td>1</td>\n",
       "    </tr>\n",
       "    <tr>\n",
       "      <th>1244</th>\n",
       "      <td>Apple iPhone 11 Pro Max 512GB Plata Libre</td>\n",
       "      <td>Apple</td>\n",
       "      <td>11 Pro</td>\n",
       "      <td>8.0</td>\n",
       "      <td>512.0</td>\n",
       "      <td>Silver</td>\n",
       "      <td>645.99</td>\n",
       "      <td>0</td>\n",
       "      <td>0</td>\n",
       "      <td>0</td>\n",
       "      <td>0</td>\n",
       "      <td>0</td>\n",
       "      <td>1</td>\n",
       "      <td>No</td>\n",
       "      <td>0</td>\n",
       "    </tr>\n",
       "    <tr>\n",
       "      <th>848</th>\n",
       "      <td>Samsung Galaxy A23 5G 4/128GB Blanco Libre Ver...</td>\n",
       "      <td>Samsung</td>\n",
       "      <td>Galaxy A23</td>\n",
       "      <td>4.0</td>\n",
       "      <td>128.0</td>\n",
       "      <td>White</td>\n",
       "      <td>249.01</td>\n",
       "      <td>1</td>\n",
       "      <td>0</td>\n",
       "      <td>0</td>\n",
       "      <td>0</td>\n",
       "      <td>0</td>\n",
       "      <td>0</td>\n",
       "      <td>No</td>\n",
       "      <td>1</td>\n",
       "    </tr>\n",
       "    <tr>\n",
       "      <th>291</th>\n",
       "      <td>Apple iPhone 13 Pro 128GB Azul Sierra Libre</td>\n",
       "      <td>Apple</td>\n",
       "      <td>iPhone 13</td>\n",
       "      <td>8.0</td>\n",
       "      <td>128.0</td>\n",
       "      <td>Blue</td>\n",
       "      <td>1159.00</td>\n",
       "      <td>0</td>\n",
       "      <td>0</td>\n",
       "      <td>0</td>\n",
       "      <td>0</td>\n",
       "      <td>0</td>\n",
       "      <td>1</td>\n",
       "      <td>No</td>\n",
       "      <td>0</td>\n",
       "    </tr>\n",
       "  </tbody>\n",
       "</table>\n",
       "</div>"
      ],
      "text/plain": [
       "                                             Smartphone    Brand       Model  \\\n",
       "714       Xiaomi Redmi 9C 4/128GB Gris Medianoche Libre   Xiaomi    Redmi 9C   \n",
       "179   Samsung Galaxy A54 5G 8/256GB Negro Libre + Pr...  Samsung  Galaxy A54   \n",
       "1244          Apple iPhone 11 Pro Max 512GB Plata Libre    Apple      11 Pro   \n",
       "848   Samsung Galaxy A23 5G 4/128GB Blanco Libre Ver...  Samsung  Galaxy A23   \n",
       "291         Apple iPhone 13 Pro 128GB Azul Sierra Libre    Apple   iPhone 13   \n",
       "\n",
       "      RAM  Storage   Color  Final Price  Galaxy  Redmi  Oppo  Realme  Xiaomi  \\\n",
       "714   4.0    128.0    Gray       196.26       0      1     0       0       1   \n",
       "179   8.0    256.0   Black       549.00       1      0     0       0       0   \n",
       "1244  8.0    512.0  Silver       645.99       0      0     0       0       0   \n",
       "848   4.0    128.0   White       249.01       1      0     0       0       0   \n",
       "291   8.0    128.0    Blue      1159.00       0      0     0       0       0   \n",
       "\n",
       "      iPhone Galaxy_Series  5G  \n",
       "714        0            No   0  \n",
       "179        0            No   1  \n",
       "1244       1            No   0  \n",
       "848        0            No   1  \n",
       "291        1            No   0  "
      ]
     },
     "execution_count": 70,
     "metadata": {},
     "output_type": "execute_result"
    }
   ],
   "source": [
    "df.sample(5)"
   ]
  },
  {
   "cell_type": "code",
   "execution_count": 71,
   "id": "fd54db93-542c-429b-9e6f-4079f1215a85",
   "metadata": {},
   "outputs": [
    {
     "data": {
      "text/plain": [
       "array(['Blue', 'Gray', 'Black', 'Green', 'Silver', 'White', 'Gold',\n",
       "       'Purple'], dtype=object)"
      ]
     },
     "execution_count": 71,
     "metadata": {},
     "output_type": "execute_result"
    }
   ],
   "source": [
    "df[\"Color\"].unique()"
   ]
  },
  {
   "cell_type": "code",
   "execution_count": 72,
   "id": "4f591e6e-21db-40b3-ab34-bb7850d6ef5f",
   "metadata": {},
   "outputs": [],
   "source": [
    "ohe = OneHotEncoder()\n",
    "encoded_color = ohe.fit_transform(df[[\"Color\"]])\n",
    "encoded_color_dataframe = pd.DataFrame(encoded_color.toarray(),columns=df[\"Color\"].unique())"
   ]
  },
  {
   "cell_type": "code",
   "execution_count": 73,
   "id": "361cb167-f7df-4b5d-9771-f65121eca48a",
   "metadata": {},
   "outputs": [
    {
     "data": {
      "text/plain": [
       "(1262, 23)"
      ]
     },
     "execution_count": 73,
     "metadata": {},
     "output_type": "execute_result"
    }
   ],
   "source": [
    "df.reset_index(drop=True, inplace=True)\n",
    "encoded_color_dataframe.reset_index(drop=True, inplace=True)\n",
    "df = pd.concat([df, encoded_color_dataframe], axis=1)\n",
    "df.shape"
   ]
  },
  {
   "cell_type": "code",
   "execution_count": 74,
   "id": "8c9ae8ef-aac7-497b-b803-6f3ef1e41a77",
   "metadata": {},
   "outputs": [
    {
     "data": {
      "text/html": [
       "<div>\n",
       "<style scoped>\n",
       "    .dataframe tbody tr th:only-of-type {\n",
       "        vertical-align: middle;\n",
       "    }\n",
       "\n",
       "    .dataframe tbody tr th {\n",
       "        vertical-align: top;\n",
       "    }\n",
       "\n",
       "    .dataframe thead th {\n",
       "        text-align: right;\n",
       "    }\n",
       "</style>\n",
       "<table border=\"1\" class=\"dataframe\">\n",
       "  <thead>\n",
       "    <tr style=\"text-align: right;\">\n",
       "      <th></th>\n",
       "      <th>Smartphone</th>\n",
       "      <th>Brand</th>\n",
       "      <th>Model</th>\n",
       "      <th>RAM</th>\n",
       "      <th>Storage</th>\n",
       "      <th>Color</th>\n",
       "      <th>Final Price</th>\n",
       "      <th>Galaxy</th>\n",
       "      <th>Redmi</th>\n",
       "      <th>Oppo</th>\n",
       "      <th>...</th>\n",
       "      <th>Galaxy_Series</th>\n",
       "      <th>5G</th>\n",
       "      <th>Blue</th>\n",
       "      <th>Gray</th>\n",
       "      <th>Black</th>\n",
       "      <th>Green</th>\n",
       "      <th>Silver</th>\n",
       "      <th>White</th>\n",
       "      <th>Gold</th>\n",
       "      <th>Purple</th>\n",
       "    </tr>\n",
       "  </thead>\n",
       "  <tbody>\n",
       "    <tr>\n",
       "      <th>163</th>\n",
       "      <td>POCO X5 5G 8/256GB Negro Libre</td>\n",
       "      <td>POCO</td>\n",
       "      <td>X5</td>\n",
       "      <td>8.0</td>\n",
       "      <td>256.0</td>\n",
       "      <td>Black</td>\n",
       "      <td>349.99</td>\n",
       "      <td>0</td>\n",
       "      <td>0</td>\n",
       "      <td>0</td>\n",
       "      <td>...</td>\n",
       "      <td>No</td>\n",
       "      <td>1</td>\n",
       "      <td>1.0</td>\n",
       "      <td>0.0</td>\n",
       "      <td>0.0</td>\n",
       "      <td>0.0</td>\n",
       "      <td>0.0</td>\n",
       "      <td>0.0</td>\n",
       "      <td>0.0</td>\n",
       "      <td>0.0</td>\n",
       "    </tr>\n",
       "    <tr>\n",
       "      <th>927</th>\n",
       "      <td>OPPO A16s 4/64GB Azul Libre</td>\n",
       "      <td>OPPO</td>\n",
       "      <td>A16s</td>\n",
       "      <td>4.0</td>\n",
       "      <td>64.0</td>\n",
       "      <td>Blue</td>\n",
       "      <td>189.00</td>\n",
       "      <td>0</td>\n",
       "      <td>0</td>\n",
       "      <td>1</td>\n",
       "      <td>...</td>\n",
       "      <td>No</td>\n",
       "      <td>0</td>\n",
       "      <td>0.0</td>\n",
       "      <td>1.0</td>\n",
       "      <td>0.0</td>\n",
       "      <td>0.0</td>\n",
       "      <td>0.0</td>\n",
       "      <td>0.0</td>\n",
       "      <td>0.0</td>\n",
       "      <td>0.0</td>\n",
       "    </tr>\n",
       "    <tr>\n",
       "      <th>233</th>\n",
       "      <td>Xiaomi Redmi Note 12 Pro 5G 6/128GB Blanco Libre</td>\n",
       "      <td>Xiaomi</td>\n",
       "      <td>Redmi Note 12</td>\n",
       "      <td>6.0</td>\n",
       "      <td>128.0</td>\n",
       "      <td>White</td>\n",
       "      <td>379.99</td>\n",
       "      <td>0</td>\n",
       "      <td>1</td>\n",
       "      <td>0</td>\n",
       "      <td>...</td>\n",
       "      <td>No</td>\n",
       "      <td>1</td>\n",
       "      <td>0.0</td>\n",
       "      <td>0.0</td>\n",
       "      <td>0.0</td>\n",
       "      <td>0.0</td>\n",
       "      <td>0.0</td>\n",
       "      <td>0.0</td>\n",
       "      <td>0.0</td>\n",
       "      <td>1.0</td>\n",
       "    </tr>\n",
       "    <tr>\n",
       "      <th>476</th>\n",
       "      <td>Apple iPhone 13 512GB Verde Alpino Libre</td>\n",
       "      <td>Apple</td>\n",
       "      <td>iPhone 13</td>\n",
       "      <td>8.0</td>\n",
       "      <td>512.0</td>\n",
       "      <td>Green</td>\n",
       "      <td>1259.00</td>\n",
       "      <td>0</td>\n",
       "      <td>0</td>\n",
       "      <td>0</td>\n",
       "      <td>...</td>\n",
       "      <td>No</td>\n",
       "      <td>0</td>\n",
       "      <td>0.0</td>\n",
       "      <td>0.0</td>\n",
       "      <td>0.0</td>\n",
       "      <td>0.0</td>\n",
       "      <td>1.0</td>\n",
       "      <td>0.0</td>\n",
       "      <td>0.0</td>\n",
       "      <td>0.0</td>\n",
       "    </tr>\n",
       "    <tr>\n",
       "      <th>1140</th>\n",
       "      <td>Xiaomi Mi 9 Lite 6/128GB Azul Boreal Libre</td>\n",
       "      <td>Xiaomi</td>\n",
       "      <td>Mi 9</td>\n",
       "      <td>6.0</td>\n",
       "      <td>128.0</td>\n",
       "      <td>Blue</td>\n",
       "      <td>358.01</td>\n",
       "      <td>0</td>\n",
       "      <td>0</td>\n",
       "      <td>0</td>\n",
       "      <td>...</td>\n",
       "      <td>No</td>\n",
       "      <td>0</td>\n",
       "      <td>0.0</td>\n",
       "      <td>1.0</td>\n",
       "      <td>0.0</td>\n",
       "      <td>0.0</td>\n",
       "      <td>0.0</td>\n",
       "      <td>0.0</td>\n",
       "      <td>0.0</td>\n",
       "      <td>0.0</td>\n",
       "    </tr>\n",
       "  </tbody>\n",
       "</table>\n",
       "<p>5 rows × 23 columns</p>\n",
       "</div>"
      ],
      "text/plain": [
       "                                            Smartphone   Brand          Model  \\\n",
       "163                     POCO X5 5G 8/256GB Negro Libre    POCO             X5   \n",
       "927                        OPPO A16s 4/64GB Azul Libre    OPPO           A16s   \n",
       "233   Xiaomi Redmi Note 12 Pro 5G 6/128GB Blanco Libre  Xiaomi  Redmi Note 12   \n",
       "476           Apple iPhone 13 512GB Verde Alpino Libre   Apple      iPhone 13   \n",
       "1140        Xiaomi Mi 9 Lite 6/128GB Azul Boreal Libre  Xiaomi           Mi 9   \n",
       "\n",
       "      RAM  Storage  Color  Final Price  Galaxy  Redmi  Oppo  ...  \\\n",
       "163   8.0    256.0  Black       349.99       0      0     0  ...   \n",
       "927   4.0     64.0   Blue       189.00       0      0     1  ...   \n",
       "233   6.0    128.0  White       379.99       0      1     0  ...   \n",
       "476   8.0    512.0  Green      1259.00       0      0     0  ...   \n",
       "1140  6.0    128.0   Blue       358.01       0      0     0  ...   \n",
       "\n",
       "      Galaxy_Series  5G  Blue Gray  Black  Green  Silver  White  Gold  Purple  \n",
       "163              No   1   1.0  0.0    0.0    0.0     0.0    0.0   0.0     0.0  \n",
       "927              No   0   0.0  1.0    0.0    0.0     0.0    0.0   0.0     0.0  \n",
       "233              No   1   0.0  0.0    0.0    0.0     0.0    0.0   0.0     1.0  \n",
       "476              No   0   0.0  0.0    0.0    0.0     1.0    0.0   0.0     0.0  \n",
       "1140             No   0   0.0  1.0    0.0    0.0     0.0    0.0   0.0     0.0  \n",
       "\n",
       "[5 rows x 23 columns]"
      ]
     },
     "execution_count": 74,
     "metadata": {},
     "output_type": "execute_result"
    }
   ],
   "source": [
    "df.sample(5)"
   ]
  },
  {
   "cell_type": "code",
   "execution_count": 75,
   "id": "32a11889-9fb8-48b7-96c9-617ee32682d9",
   "metadata": {},
   "outputs": [],
   "source": [
    "df.drop(columns=[\"Smartphone\",\"Brand\",\"Model\",\"Color\",\"Galaxy_Series\"],inplace=True)"
   ]
  },
  {
   "cell_type": "code",
   "execution_count": 106,
   "id": "3d926ea0-f5c0-426b-912a-90fef0ec9bd4",
   "metadata": {},
   "outputs": [
    {
     "data": {
      "text/html": [
       "<div>\n",
       "<style scoped>\n",
       "    .dataframe tbody tr th:only-of-type {\n",
       "        vertical-align: middle;\n",
       "    }\n",
       "\n",
       "    .dataframe tbody tr th {\n",
       "        vertical-align: top;\n",
       "    }\n",
       "\n",
       "    .dataframe thead th {\n",
       "        text-align: right;\n",
       "    }\n",
       "</style>\n",
       "<table border=\"1\" class=\"dataframe\">\n",
       "  <thead>\n",
       "    <tr style=\"text-align: right;\">\n",
       "      <th></th>\n",
       "      <th>RAM</th>\n",
       "      <th>Storage</th>\n",
       "      <th>Final Price</th>\n",
       "      <th>Galaxy</th>\n",
       "      <th>Redmi</th>\n",
       "      <th>Oppo</th>\n",
       "      <th>Realme</th>\n",
       "      <th>Xiaomi</th>\n",
       "      <th>iPhone</th>\n",
       "      <th>5G</th>\n",
       "      <th>Blue</th>\n",
       "      <th>Gray</th>\n",
       "      <th>Black</th>\n",
       "      <th>Green</th>\n",
       "      <th>Silver</th>\n",
       "      <th>White</th>\n",
       "      <th>Gold</th>\n",
       "      <th>Purple</th>\n",
       "    </tr>\n",
       "  </thead>\n",
       "  <tbody>\n",
       "    <tr>\n",
       "      <th>161</th>\n",
       "      <td>8.0</td>\n",
       "      <td>256.0</td>\n",
       "      <td>699.0</td>\n",
       "      <td>1</td>\n",
       "      <td>0</td>\n",
       "      <td>0</td>\n",
       "      <td>0</td>\n",
       "      <td>0</td>\n",
       "      <td>0</td>\n",
       "      <td>1</td>\n",
       "      <td>0.0</td>\n",
       "      <td>0.0</td>\n",
       "      <td>0.0</td>\n",
       "      <td>0.0</td>\n",
       "      <td>1.0</td>\n",
       "      <td>0.0</td>\n",
       "      <td>0.0</td>\n",
       "      <td>0.0</td>\n",
       "    </tr>\n",
       "    <tr>\n",
       "      <th>637</th>\n",
       "      <td>4.0</td>\n",
       "      <td>64.0</td>\n",
       "      <td>210.0</td>\n",
       "      <td>0</td>\n",
       "      <td>0</td>\n",
       "      <td>0</td>\n",
       "      <td>0</td>\n",
       "      <td>0</td>\n",
       "      <td>0</td>\n",
       "      <td>0</td>\n",
       "      <td>0.0</td>\n",
       "      <td>0.0</td>\n",
       "      <td>0.0</td>\n",
       "      <td>0.0</td>\n",
       "      <td>0.0</td>\n",
       "      <td>0.0</td>\n",
       "      <td>0.0</td>\n",
       "      <td>1.0</td>\n",
       "    </tr>\n",
       "    <tr>\n",
       "      <th>968</th>\n",
       "      <td>6.0</td>\n",
       "      <td>128.0</td>\n",
       "      <td>349.0</td>\n",
       "      <td>0</td>\n",
       "      <td>0</td>\n",
       "      <td>0</td>\n",
       "      <td>0</td>\n",
       "      <td>1</td>\n",
       "      <td>0</td>\n",
       "      <td>1</td>\n",
       "      <td>0.0</td>\n",
       "      <td>0.0</td>\n",
       "      <td>0.0</td>\n",
       "      <td>1.0</td>\n",
       "      <td>0.0</td>\n",
       "      <td>0.0</td>\n",
       "      <td>0.0</td>\n",
       "      <td>0.0</td>\n",
       "    </tr>\n",
       "    <tr>\n",
       "      <th>1035</th>\n",
       "      <td>4.0</td>\n",
       "      <td>128.0</td>\n",
       "      <td>209.0</td>\n",
       "      <td>0</td>\n",
       "      <td>0</td>\n",
       "      <td>0</td>\n",
       "      <td>1</td>\n",
       "      <td>0</td>\n",
       "      <td>0</td>\n",
       "      <td>1</td>\n",
       "      <td>0.0</td>\n",
       "      <td>1.0</td>\n",
       "      <td>0.0</td>\n",
       "      <td>0.0</td>\n",
       "      <td>0.0</td>\n",
       "      <td>0.0</td>\n",
       "      <td>0.0</td>\n",
       "      <td>0.0</td>\n",
       "    </tr>\n",
       "    <tr>\n",
       "      <th>348</th>\n",
       "      <td>8.0</td>\n",
       "      <td>256.0</td>\n",
       "      <td>1209.0</td>\n",
       "      <td>1</td>\n",
       "      <td>0</td>\n",
       "      <td>0</td>\n",
       "      <td>0</td>\n",
       "      <td>0</td>\n",
       "      <td>0</td>\n",
       "      <td>0</td>\n",
       "      <td>0.0</td>\n",
       "      <td>0.0</td>\n",
       "      <td>0.0</td>\n",
       "      <td>0.0</td>\n",
       "      <td>0.0</td>\n",
       "      <td>0.0</td>\n",
       "      <td>0.0</td>\n",
       "      <td>1.0</td>\n",
       "    </tr>\n",
       "  </tbody>\n",
       "</table>\n",
       "</div>"
      ],
      "text/plain": [
       "      RAM  Storage  Final Price  Galaxy  Redmi  Oppo  Realme  Xiaomi  iPhone  \\\n",
       "161   8.0    256.0        699.0       1      0     0       0       0       0   \n",
       "637   4.0     64.0        210.0       0      0     0       0       0       0   \n",
       "968   6.0    128.0        349.0       0      0     0       0       1       0   \n",
       "1035  4.0    128.0        209.0       0      0     0       1       0       0   \n",
       "348   8.0    256.0       1209.0       1      0     0       0       0       0   \n",
       "\n",
       "      5G  Blue  Gray  Black  Green  Silver  White  Gold  Purple  \n",
       "161    1   0.0   0.0    0.0    0.0     1.0    0.0   0.0     0.0  \n",
       "637    0   0.0   0.0    0.0    0.0     0.0    0.0   0.0     1.0  \n",
       "968    1   0.0   0.0    0.0    1.0     0.0    0.0   0.0     0.0  \n",
       "1035   1   0.0   1.0    0.0    0.0     0.0    0.0   0.0     0.0  \n",
       "348    0   0.0   0.0    0.0    0.0     0.0    0.0   0.0     1.0  "
      ]
     },
     "execution_count": 106,
     "metadata": {},
     "output_type": "execute_result"
    }
   ],
   "source": [
    "df.sample(5)"
   ]
  },
  {
   "cell_type": "code",
   "execution_count": 108,
   "id": "a7c6453e-c67a-4ec7-ae81-b90a92fc4443",
   "metadata": {},
   "outputs": [],
   "source": [
    "df[\"Final Price\"] = df[\"Final Price\"].apply(lambda x: x * 45)"
   ]
  },
  {
   "cell_type": "code",
   "execution_count": null,
   "id": "82617e07-3a3f-4fcc-bbfc-39d82cc8e309",
   "metadata": {},
   "outputs": [],
   "source": []
  },
  {
   "cell_type": "code",
   "execution_count": 77,
   "id": "b8a6dfc4-3399-4390-a3df-1ffce0235b13",
   "metadata": {},
   "outputs": [
    {
     "data": {
      "text/plain": [
       "RAM            0\n",
       "Storage        0\n",
       "Final Price    0\n",
       "Galaxy         0\n",
       "Redmi          0\n",
       "Oppo           0\n",
       "Realme         0\n",
       "Xiaomi         0\n",
       "iPhone         0\n",
       "5G             0\n",
       "Blue           0\n",
       "Gray           0\n",
       "Black          0\n",
       "Green          0\n",
       "Silver         0\n",
       "White          0\n",
       "Gold           0\n",
       "Purple         0\n",
       "dtype: int64"
      ]
     },
     "execution_count": 77,
     "metadata": {},
     "output_type": "execute_result"
    }
   ],
   "source": [
    "df.isnull().sum()"
   ]
  },
  {
   "cell_type": "code",
   "execution_count": 78,
   "id": "87ad6ca7-e067-467c-86e4-50b2a005c7cc",
   "metadata": {},
   "outputs": [
    {
     "data": {
      "text/plain": [
       "(1262, 18)"
      ]
     },
     "execution_count": 78,
     "metadata": {},
     "output_type": "execute_result"
    }
   ],
   "source": [
    "df.shape"
   ]
  },
  {
   "cell_type": "code",
   "execution_count": 79,
   "id": "579b7ae5-6874-4de2-b04c-776b198d201e",
   "metadata": {},
   "outputs": [
    {
     "name": "stdout",
     "output_type": "stream",
     "text": [
      "<class 'pandas.core.frame.DataFrame'>\n",
      "RangeIndex: 1262 entries, 0 to 1261\n",
      "Data columns (total 18 columns):\n",
      " #   Column       Non-Null Count  Dtype  \n",
      "---  ------       --------------  -----  \n",
      " 0   RAM          1262 non-null   float64\n",
      " 1   Storage      1262 non-null   float64\n",
      " 2   Final Price  1262 non-null   float64\n",
      " 3   Galaxy       1262 non-null   int64  \n",
      " 4   Redmi        1262 non-null   int64  \n",
      " 5   Oppo         1262 non-null   int64  \n",
      " 6   Realme       1262 non-null   int64  \n",
      " 7   Xiaomi       1262 non-null   int64  \n",
      " 8   iPhone       1262 non-null   int64  \n",
      " 9   5G           1262 non-null   int64  \n",
      " 10  Blue         1262 non-null   float64\n",
      " 11  Gray         1262 non-null   float64\n",
      " 12  Black        1262 non-null   float64\n",
      " 13  Green        1262 non-null   float64\n",
      " 14  Silver       1262 non-null   float64\n",
      " 15  White        1262 non-null   float64\n",
      " 16  Gold         1262 non-null   float64\n",
      " 17  Purple       1262 non-null   float64\n",
      "dtypes: float64(11), int64(7)\n",
      "memory usage: 177.6 KB\n"
     ]
    }
   ],
   "source": [
    "df.info()"
   ]
  },
  {
   "cell_type": "code",
   "execution_count": 80,
   "id": "92f4b9bd-9fae-435b-b53b-330e04a56bb6",
   "metadata": {},
   "outputs": [],
   "source": [
    "from sklearn.model_selection import train_test_split\n",
    "from sklearn.linear_model import LinearRegression\n",
    "from sklearn.linear_model import SGDRegressor\n",
    "from sklearn.metrics import r2_score\n",
    "from sklearn.preprocessing import StandardScaler\n",
    "from sklearn.preprocessing import MinMaxScaler\n",
    "from sklearn.decomposition import PCA"
   ]
  },
  {
   "cell_type": "code",
   "execution_count": 81,
   "id": "d3ee9744-6f2d-45f4-8448-b068cb59c358",
   "metadata": {},
   "outputs": [],
   "source": [
    "y = df[\"Final Price\"]\n",
    "x = df.drop(columns=[\"Final Price\"])\n",
    "\n",
    "X_train,X_test,Y_train,Y_test = train_test_split(x,y, test_size=0.09, random_state=40)"
   ]
  },
  {
   "cell_type": "code",
   "execution_count": 82,
   "id": "d58c070f-889c-463a-87f9-29b4c21749c5",
   "metadata": {},
   "outputs": [],
   "source": [
    "scaler = MinMaxScaler()\n",
    "X_train_scaled = scaler.fit_transform(X_train)\n",
    "X_test_scaled = scaler.fit_transform(X_test)"
   ]
  },
  {
   "cell_type": "code",
   "execution_count": 83,
   "id": "f70f03e7-6a37-47a9-bc4d-aa311538e4cd",
   "metadata": {},
   "outputs": [
    {
     "data": {
      "text/html": [
       "<style>#sk-container-id-1 {\n",
       "  /* Definition of color scheme common for light and dark mode */\n",
       "  --sklearn-color-text: black;\n",
       "  --sklearn-color-line: gray;\n",
       "  /* Definition of color scheme for unfitted estimators */\n",
       "  --sklearn-color-unfitted-level-0: #fff5e6;\n",
       "  --sklearn-color-unfitted-level-1: #f6e4d2;\n",
       "  --sklearn-color-unfitted-level-2: #ffe0b3;\n",
       "  --sklearn-color-unfitted-level-3: chocolate;\n",
       "  /* Definition of color scheme for fitted estimators */\n",
       "  --sklearn-color-fitted-level-0: #f0f8ff;\n",
       "  --sklearn-color-fitted-level-1: #d4ebff;\n",
       "  --sklearn-color-fitted-level-2: #b3dbfd;\n",
       "  --sklearn-color-fitted-level-3: cornflowerblue;\n",
       "\n",
       "  /* Specific color for light theme */\n",
       "  --sklearn-color-text-on-default-background: var(--sg-text-color, var(--theme-code-foreground, var(--jp-content-font-color1, black)));\n",
       "  --sklearn-color-background: var(--sg-background-color, var(--theme-background, var(--jp-layout-color0, white)));\n",
       "  --sklearn-color-border-box: var(--sg-text-color, var(--theme-code-foreground, var(--jp-content-font-color1, black)));\n",
       "  --sklearn-color-icon: #696969;\n",
       "\n",
       "  @media (prefers-color-scheme: dark) {\n",
       "    /* Redefinition of color scheme for dark theme */\n",
       "    --sklearn-color-text-on-default-background: var(--sg-text-color, var(--theme-code-foreground, var(--jp-content-font-color1, white)));\n",
       "    --sklearn-color-background: var(--sg-background-color, var(--theme-background, var(--jp-layout-color0, #111)));\n",
       "    --sklearn-color-border-box: var(--sg-text-color, var(--theme-code-foreground, var(--jp-content-font-color1, white)));\n",
       "    --sklearn-color-icon: #878787;\n",
       "  }\n",
       "}\n",
       "\n",
       "#sk-container-id-1 {\n",
       "  color: var(--sklearn-color-text);\n",
       "}\n",
       "\n",
       "#sk-container-id-1 pre {\n",
       "  padding: 0;\n",
       "}\n",
       "\n",
       "#sk-container-id-1 input.sk-hidden--visually {\n",
       "  border: 0;\n",
       "  clip: rect(1px 1px 1px 1px);\n",
       "  clip: rect(1px, 1px, 1px, 1px);\n",
       "  height: 1px;\n",
       "  margin: -1px;\n",
       "  overflow: hidden;\n",
       "  padding: 0;\n",
       "  position: absolute;\n",
       "  width: 1px;\n",
       "}\n",
       "\n",
       "#sk-container-id-1 div.sk-dashed-wrapped {\n",
       "  border: 1px dashed var(--sklearn-color-line);\n",
       "  margin: 0 0.4em 0.5em 0.4em;\n",
       "  box-sizing: border-box;\n",
       "  padding-bottom: 0.4em;\n",
       "  background-color: var(--sklearn-color-background);\n",
       "}\n",
       "\n",
       "#sk-container-id-1 div.sk-container {\n",
       "  /* jupyter's `normalize.less` sets `[hidden] { display: none; }`\n",
       "     but bootstrap.min.css set `[hidden] { display: none !important; }`\n",
       "     so we also need the `!important` here to be able to override the\n",
       "     default hidden behavior on the sphinx rendered scikit-learn.org.\n",
       "     See: https://github.com/scikit-learn/scikit-learn/issues/21755 */\n",
       "  display: inline-block !important;\n",
       "  position: relative;\n",
       "}\n",
       "\n",
       "#sk-container-id-1 div.sk-text-repr-fallback {\n",
       "  display: none;\n",
       "}\n",
       "\n",
       "div.sk-parallel-item,\n",
       "div.sk-serial,\n",
       "div.sk-item {\n",
       "  /* draw centered vertical line to link estimators */\n",
       "  background-image: linear-gradient(var(--sklearn-color-text-on-default-background), var(--sklearn-color-text-on-default-background));\n",
       "  background-size: 2px 100%;\n",
       "  background-repeat: no-repeat;\n",
       "  background-position: center center;\n",
       "}\n",
       "\n",
       "/* Parallel-specific style estimator block */\n",
       "\n",
       "#sk-container-id-1 div.sk-parallel-item::after {\n",
       "  content: \"\";\n",
       "  width: 100%;\n",
       "  border-bottom: 2px solid var(--sklearn-color-text-on-default-background);\n",
       "  flex-grow: 1;\n",
       "}\n",
       "\n",
       "#sk-container-id-1 div.sk-parallel {\n",
       "  display: flex;\n",
       "  align-items: stretch;\n",
       "  justify-content: center;\n",
       "  background-color: var(--sklearn-color-background);\n",
       "  position: relative;\n",
       "}\n",
       "\n",
       "#sk-container-id-1 div.sk-parallel-item {\n",
       "  display: flex;\n",
       "  flex-direction: column;\n",
       "}\n",
       "\n",
       "#sk-container-id-1 div.sk-parallel-item:first-child::after {\n",
       "  align-self: flex-end;\n",
       "  width: 50%;\n",
       "}\n",
       "\n",
       "#sk-container-id-1 div.sk-parallel-item:last-child::after {\n",
       "  align-self: flex-start;\n",
       "  width: 50%;\n",
       "}\n",
       "\n",
       "#sk-container-id-1 div.sk-parallel-item:only-child::after {\n",
       "  width: 0;\n",
       "}\n",
       "\n",
       "/* Serial-specific style estimator block */\n",
       "\n",
       "#sk-container-id-1 div.sk-serial {\n",
       "  display: flex;\n",
       "  flex-direction: column;\n",
       "  align-items: center;\n",
       "  background-color: var(--sklearn-color-background);\n",
       "  padding-right: 1em;\n",
       "  padding-left: 1em;\n",
       "}\n",
       "\n",
       "\n",
       "/* Toggleable style: style used for estimator/Pipeline/ColumnTransformer box that is\n",
       "clickable and can be expanded/collapsed.\n",
       "- Pipeline and ColumnTransformer use this feature and define the default style\n",
       "- Estimators will overwrite some part of the style using the `sk-estimator` class\n",
       "*/\n",
       "\n",
       "/* Pipeline and ColumnTransformer style (default) */\n",
       "\n",
       "#sk-container-id-1 div.sk-toggleable {\n",
       "  /* Default theme specific background. It is overwritten whether we have a\n",
       "  specific estimator or a Pipeline/ColumnTransformer */\n",
       "  background-color: var(--sklearn-color-background);\n",
       "}\n",
       "\n",
       "/* Toggleable label */\n",
       "#sk-container-id-1 label.sk-toggleable__label {\n",
       "  cursor: pointer;\n",
       "  display: block;\n",
       "  width: 100%;\n",
       "  margin-bottom: 0;\n",
       "  padding: 0.5em;\n",
       "  box-sizing: border-box;\n",
       "  text-align: center;\n",
       "}\n",
       "\n",
       "#sk-container-id-1 label.sk-toggleable__label-arrow:before {\n",
       "  /* Arrow on the left of the label */\n",
       "  content: \"▸\";\n",
       "  float: left;\n",
       "  margin-right: 0.25em;\n",
       "  color: var(--sklearn-color-icon);\n",
       "}\n",
       "\n",
       "#sk-container-id-1 label.sk-toggleable__label-arrow:hover:before {\n",
       "  color: var(--sklearn-color-text);\n",
       "}\n",
       "\n",
       "/* Toggleable content - dropdown */\n",
       "\n",
       "#sk-container-id-1 div.sk-toggleable__content {\n",
       "  max-height: 0;\n",
       "  max-width: 0;\n",
       "  overflow: hidden;\n",
       "  text-align: left;\n",
       "  /* unfitted */\n",
       "  background-color: var(--sklearn-color-unfitted-level-0);\n",
       "}\n",
       "\n",
       "#sk-container-id-1 div.sk-toggleable__content.fitted {\n",
       "  /* fitted */\n",
       "  background-color: var(--sklearn-color-fitted-level-0);\n",
       "}\n",
       "\n",
       "#sk-container-id-1 div.sk-toggleable__content pre {\n",
       "  margin: 0.2em;\n",
       "  border-radius: 0.25em;\n",
       "  color: var(--sklearn-color-text);\n",
       "  /* unfitted */\n",
       "  background-color: var(--sklearn-color-unfitted-level-0);\n",
       "}\n",
       "\n",
       "#sk-container-id-1 div.sk-toggleable__content.fitted pre {\n",
       "  /* unfitted */\n",
       "  background-color: var(--sklearn-color-fitted-level-0);\n",
       "}\n",
       "\n",
       "#sk-container-id-1 input.sk-toggleable__control:checked~div.sk-toggleable__content {\n",
       "  /* Expand drop-down */\n",
       "  max-height: 200px;\n",
       "  max-width: 100%;\n",
       "  overflow: auto;\n",
       "}\n",
       "\n",
       "#sk-container-id-1 input.sk-toggleable__control:checked~label.sk-toggleable__label-arrow:before {\n",
       "  content: \"▾\";\n",
       "}\n",
       "\n",
       "/* Pipeline/ColumnTransformer-specific style */\n",
       "\n",
       "#sk-container-id-1 div.sk-label input.sk-toggleable__control:checked~label.sk-toggleable__label {\n",
       "  color: var(--sklearn-color-text);\n",
       "  background-color: var(--sklearn-color-unfitted-level-2);\n",
       "}\n",
       "\n",
       "#sk-container-id-1 div.sk-label.fitted input.sk-toggleable__control:checked~label.sk-toggleable__label {\n",
       "  background-color: var(--sklearn-color-fitted-level-2);\n",
       "}\n",
       "\n",
       "/* Estimator-specific style */\n",
       "\n",
       "/* Colorize estimator box */\n",
       "#sk-container-id-1 div.sk-estimator input.sk-toggleable__control:checked~label.sk-toggleable__label {\n",
       "  /* unfitted */\n",
       "  background-color: var(--sklearn-color-unfitted-level-2);\n",
       "}\n",
       "\n",
       "#sk-container-id-1 div.sk-estimator.fitted input.sk-toggleable__control:checked~label.sk-toggleable__label {\n",
       "  /* fitted */\n",
       "  background-color: var(--sklearn-color-fitted-level-2);\n",
       "}\n",
       "\n",
       "#sk-container-id-1 div.sk-label label.sk-toggleable__label,\n",
       "#sk-container-id-1 div.sk-label label {\n",
       "  /* The background is the default theme color */\n",
       "  color: var(--sklearn-color-text-on-default-background);\n",
       "}\n",
       "\n",
       "/* On hover, darken the color of the background */\n",
       "#sk-container-id-1 div.sk-label:hover label.sk-toggleable__label {\n",
       "  color: var(--sklearn-color-text);\n",
       "  background-color: var(--sklearn-color-unfitted-level-2);\n",
       "}\n",
       "\n",
       "/* Label box, darken color on hover, fitted */\n",
       "#sk-container-id-1 div.sk-label.fitted:hover label.sk-toggleable__label.fitted {\n",
       "  color: var(--sklearn-color-text);\n",
       "  background-color: var(--sklearn-color-fitted-level-2);\n",
       "}\n",
       "\n",
       "/* Estimator label */\n",
       "\n",
       "#sk-container-id-1 div.sk-label label {\n",
       "  font-family: monospace;\n",
       "  font-weight: bold;\n",
       "  display: inline-block;\n",
       "  line-height: 1.2em;\n",
       "}\n",
       "\n",
       "#sk-container-id-1 div.sk-label-container {\n",
       "  text-align: center;\n",
       "}\n",
       "\n",
       "/* Estimator-specific */\n",
       "#sk-container-id-1 div.sk-estimator {\n",
       "  font-family: monospace;\n",
       "  border: 1px dotted var(--sklearn-color-border-box);\n",
       "  border-radius: 0.25em;\n",
       "  box-sizing: border-box;\n",
       "  margin-bottom: 0.5em;\n",
       "  /* unfitted */\n",
       "  background-color: var(--sklearn-color-unfitted-level-0);\n",
       "}\n",
       "\n",
       "#sk-container-id-1 div.sk-estimator.fitted {\n",
       "  /* fitted */\n",
       "  background-color: var(--sklearn-color-fitted-level-0);\n",
       "}\n",
       "\n",
       "/* on hover */\n",
       "#sk-container-id-1 div.sk-estimator:hover {\n",
       "  /* unfitted */\n",
       "  background-color: var(--sklearn-color-unfitted-level-2);\n",
       "}\n",
       "\n",
       "#sk-container-id-1 div.sk-estimator.fitted:hover {\n",
       "  /* fitted */\n",
       "  background-color: var(--sklearn-color-fitted-level-2);\n",
       "}\n",
       "\n",
       "/* Specification for estimator info (e.g. \"i\" and \"?\") */\n",
       "\n",
       "/* Common style for \"i\" and \"?\" */\n",
       "\n",
       ".sk-estimator-doc-link,\n",
       "a:link.sk-estimator-doc-link,\n",
       "a:visited.sk-estimator-doc-link {\n",
       "  float: right;\n",
       "  font-size: smaller;\n",
       "  line-height: 1em;\n",
       "  font-family: monospace;\n",
       "  background-color: var(--sklearn-color-background);\n",
       "  border-radius: 1em;\n",
       "  height: 1em;\n",
       "  width: 1em;\n",
       "  text-decoration: none !important;\n",
       "  margin-left: 1ex;\n",
       "  /* unfitted */\n",
       "  border: var(--sklearn-color-unfitted-level-1) 1pt solid;\n",
       "  color: var(--sklearn-color-unfitted-level-1);\n",
       "}\n",
       "\n",
       ".sk-estimator-doc-link.fitted,\n",
       "a:link.sk-estimator-doc-link.fitted,\n",
       "a:visited.sk-estimator-doc-link.fitted {\n",
       "  /* fitted */\n",
       "  border: var(--sklearn-color-fitted-level-1) 1pt solid;\n",
       "  color: var(--sklearn-color-fitted-level-1);\n",
       "}\n",
       "\n",
       "/* On hover */\n",
       "div.sk-estimator:hover .sk-estimator-doc-link:hover,\n",
       ".sk-estimator-doc-link:hover,\n",
       "div.sk-label-container:hover .sk-estimator-doc-link:hover,\n",
       ".sk-estimator-doc-link:hover {\n",
       "  /* unfitted */\n",
       "  background-color: var(--sklearn-color-unfitted-level-3);\n",
       "  color: var(--sklearn-color-background);\n",
       "  text-decoration: none;\n",
       "}\n",
       "\n",
       "div.sk-estimator.fitted:hover .sk-estimator-doc-link.fitted:hover,\n",
       ".sk-estimator-doc-link.fitted:hover,\n",
       "div.sk-label-container:hover .sk-estimator-doc-link.fitted:hover,\n",
       ".sk-estimator-doc-link.fitted:hover {\n",
       "  /* fitted */\n",
       "  background-color: var(--sklearn-color-fitted-level-3);\n",
       "  color: var(--sklearn-color-background);\n",
       "  text-decoration: none;\n",
       "}\n",
       "\n",
       "/* Span, style for the box shown on hovering the info icon */\n",
       ".sk-estimator-doc-link span {\n",
       "  display: none;\n",
       "  z-index: 9999;\n",
       "  position: relative;\n",
       "  font-weight: normal;\n",
       "  right: .2ex;\n",
       "  padding: .5ex;\n",
       "  margin: .5ex;\n",
       "  width: min-content;\n",
       "  min-width: 20ex;\n",
       "  max-width: 50ex;\n",
       "  color: var(--sklearn-color-text);\n",
       "  box-shadow: 2pt 2pt 4pt #999;\n",
       "  /* unfitted */\n",
       "  background: var(--sklearn-color-unfitted-level-0);\n",
       "  border: .5pt solid var(--sklearn-color-unfitted-level-3);\n",
       "}\n",
       "\n",
       ".sk-estimator-doc-link.fitted span {\n",
       "  /* fitted */\n",
       "  background: var(--sklearn-color-fitted-level-0);\n",
       "  border: var(--sklearn-color-fitted-level-3);\n",
       "}\n",
       "\n",
       ".sk-estimator-doc-link:hover span {\n",
       "  display: block;\n",
       "}\n",
       "\n",
       "/* \"?\"-specific style due to the `<a>` HTML tag */\n",
       "\n",
       "#sk-container-id-1 a.estimator_doc_link {\n",
       "  float: right;\n",
       "  font-size: 1rem;\n",
       "  line-height: 1em;\n",
       "  font-family: monospace;\n",
       "  background-color: var(--sklearn-color-background);\n",
       "  border-radius: 1rem;\n",
       "  height: 1rem;\n",
       "  width: 1rem;\n",
       "  text-decoration: none;\n",
       "  /* unfitted */\n",
       "  color: var(--sklearn-color-unfitted-level-1);\n",
       "  border: var(--sklearn-color-unfitted-level-1) 1pt solid;\n",
       "}\n",
       "\n",
       "#sk-container-id-1 a.estimator_doc_link.fitted {\n",
       "  /* fitted */\n",
       "  border: var(--sklearn-color-fitted-level-1) 1pt solid;\n",
       "  color: var(--sklearn-color-fitted-level-1);\n",
       "}\n",
       "\n",
       "/* On hover */\n",
       "#sk-container-id-1 a.estimator_doc_link:hover {\n",
       "  /* unfitted */\n",
       "  background-color: var(--sklearn-color-unfitted-level-3);\n",
       "  color: var(--sklearn-color-background);\n",
       "  text-decoration: none;\n",
       "}\n",
       "\n",
       "#sk-container-id-1 a.estimator_doc_link.fitted:hover {\n",
       "  /* fitted */\n",
       "  background-color: var(--sklearn-color-fitted-level-3);\n",
       "}\n",
       "</style><div id=\"sk-container-id-1\" class=\"sk-top-container\"><div class=\"sk-text-repr-fallback\"><pre>SGDRegressor()</pre><b>In a Jupyter environment, please rerun this cell to show the HTML representation or trust the notebook. <br />On GitHub, the HTML representation is unable to render, please try loading this page with nbviewer.org.</b></div><div class=\"sk-container\" hidden><div class=\"sk-item\"><div class=\"sk-estimator fitted sk-toggleable\"><input class=\"sk-toggleable__control sk-hidden--visually\" id=\"sk-estimator-id-1\" type=\"checkbox\" checked><label for=\"sk-estimator-id-1\" class=\"sk-toggleable__label fitted sk-toggleable__label-arrow fitted\">&nbsp;&nbsp;SGDRegressor<a class=\"sk-estimator-doc-link fitted\" rel=\"noreferrer\" target=\"_blank\" href=\"https://scikit-learn.org/1.4/modules/generated/sklearn.linear_model.SGDRegressor.html\">?<span>Documentation for SGDRegressor</span></a><span class=\"sk-estimator-doc-link fitted\">i<span>Fitted</span></span></label><div class=\"sk-toggleable__content fitted\"><pre>SGDRegressor()</pre></div> </div></div></div></div>"
      ],
      "text/plain": [
       "SGDRegressor()"
      ]
     },
     "execution_count": 83,
     "metadata": {},
     "output_type": "execute_result"
    }
   ],
   "source": [
    "# pca = PCA(n_components=14)\n",
    "\n",
    "# X_train_pca = pca.fit_transform(X_train_scaled)\n",
    "# X_test_pca = pca.fit_transform(X_test_scaled)\n",
    "\n",
    "model = SGDRegressor()\n",
    "model.fit(X_train_scaled,Y_train)"
   ]
  },
  {
   "cell_type": "code",
   "execution_count": 84,
   "id": "7b372fda-12a6-4f27-9970-51d6c1d7d66b",
   "metadata": {},
   "outputs": [],
   "source": [
    "y_pred = model.predict(X_test_scaled)"
   ]
  },
  {
   "cell_type": "code",
   "execution_count": 85,
   "id": "7ab212a7-3d29-4106-b5a2-7fcef1c69a78",
   "metadata": {},
   "outputs": [
    {
     "data": {
      "text/plain": [
       "0.7459776909200273"
      ]
     },
     "execution_count": 85,
     "metadata": {},
     "output_type": "execute_result"
    }
   ],
   "source": [
    "r2_score(Y_test,y_pred)"
   ]
  },
  {
   "cell_type": "code",
   "execution_count": 86,
   "id": "835840a1-6b6d-49a0-a56b-a3df690ccfd6",
   "metadata": {},
   "outputs": [
    {
     "data": {
      "text/plain": [
       "(114,)"
      ]
     },
     "execution_count": 86,
     "metadata": {},
     "output_type": "execute_result"
    }
   ],
   "source": [
    "Y_test.shape"
   ]
  },
  {
   "cell_type": "code",
   "execution_count": 87,
   "id": "6ae3e580-4fbd-4dfd-ba86-58f9ef78fee1",
   "metadata": {},
   "outputs": [
    {
     "data": {
      "text/plain": [
       "array([ 7.90557291e+01,  8.08955545e+02,  7.36582765e+02,  1.74370207e+03,\n",
       "        6.43385105e+02,  7.73662560e+01,  8.37655432e+02,  5.55883764e+02,\n",
       "        2.15528731e+02,  4.61522756e+02,  2.06538926e+02,  3.16333583e+02,\n",
       "        9.38558553e+02,  7.33657104e+02,  9.10028211e+02,  6.18778378e+02,\n",
       "        2.20782448e+02,  4.55317004e+02,  2.93801225e+02, -1.97076168e+01,\n",
       "        8.15653628e+02,  1.70408550e+03,  1.14590645e+03,  4.86980984e+02,\n",
       "        9.00321345e+02,  8.15653628e+02,  1.13628271e+03,  2.20782448e+02,\n",
       "        1.14592003e+03,  4.10365286e+02,  3.32173985e+02,  4.07612961e+02,\n",
       "        7.02046990e+02,  4.61522756e+02,  1.98250089e+02,  3.34687074e+02,\n",
       "        7.64590927e+02,  5.49624093e+02,  1.28149592e+02,  5.58346385e+02,\n",
       "        3.16160247e+02,  5.86870606e+02,  4.97695740e+02,  8.53121314e+00,\n",
       "        4.00606775e+02,  1.57125839e+02,  7.44901798e+02,  2.54042359e+02,\n",
       "        1.70408550e+03,  2.05891411e+02,  1.13920837e+03,  2.54864496e+02,\n",
       "        8.06029883e+02,  4.43060393e+02,  3.35240181e+02,  9.20140520e+01,\n",
       "        7.14577170e+02,  5.08940434e+02,  4.43060393e+02,  2.20782448e+02,\n",
       "        7.33657104e+02,  9.10028211e+02,  4.54811097e+02,  6.21996872e+02,\n",
       "        8.83630090e+00,  8.05856547e+02,  1.66763159e+02,  7.33657104e+02,\n",
       "       -4.22399752e+01,  7.33657104e+02,  4.96598608e+02, -1.20310085e+02,\n",
       "        1.04895771e+03,  1.14590645e+03,  8.06029883e+02,  8.92461560e+01,\n",
       "        7.14750506e+02,  6.08186806e+02,  4.81286660e+02,  5.96507926e+02,\n",
       "        5.61265925e+02,  4.78789142e+02,  5.00621401e+02,  9.76584933e+02,\n",
       "       -1.97076168e+01,  1.98250089e+02,  2.28371185e+02,  1.11737611e+03,\n",
       "        4.84499349e+02,  1.01728873e+02, -1.97076168e+01,  2.33770377e+02,\n",
       "        6.40903470e+02,  4.84499349e+02,  1.15686883e+02,  2.49326365e+02,\n",
       "        2.65054923e+02,  1.61618936e+02,  5.00193258e+02,  5.58340264e+02,\n",
       "        5.45431650e+02,  5.27183877e+02,  3.67854094e+02,  1.09484375e+03,\n",
       "        5.60035858e+02,  3.25049754e+02,  4.07612961e+02,  2.06538926e+02,\n",
       "       -8.01019114e-01,  7.44288227e+02,  5.68658850e+02,  7.83904791e+02,\n",
       "        9.69873274e+02, -2.19098700e+00])"
      ]
     },
     "execution_count": 87,
     "metadata": {},
     "output_type": "execute_result"
    }
   ],
   "source": [
    "y_pred"
   ]
  },
  {
   "cell_type": "code",
   "execution_count": 88,
   "id": "d6e51b94-39c3-4965-a3c7-70c3a6996c36",
   "metadata": {},
   "outputs": [
    {
     "data": {
      "text/plain": [
       "(114, 17)"
      ]
     },
     "execution_count": 88,
     "metadata": {},
     "output_type": "execute_result"
    }
   ],
   "source": [
    "X_test_scaled.shape"
   ]
  },
  {
   "cell_type": "code",
   "execution_count": 89,
   "id": "3a5d4570-f3d6-458e-ad0c-df1ba58cc33d",
   "metadata": {},
   "outputs": [
    {
     "data": {
      "text/plain": [
       "1026     168.44\n",
       "340      959.00\n",
       "1095     681.00\n",
       "1200    1839.00\n",
       "726      457.00\n",
       "         ...   \n",
       "485      589.00\n",
       "86       389.95\n",
       "821      559.00\n",
       "215      954.00\n",
       "538      199.99\n",
       "Name: Final Price, Length: 114, dtype: float64"
      ]
     },
     "execution_count": 89,
     "metadata": {},
     "output_type": "execute_result"
    }
   ],
   "source": [
    "Y_test"
   ]
  },
  {
   "cell_type": "code",
   "execution_count": 90,
   "id": "4757ff76-9855-4f33-adf0-58d26b4b66e7",
   "metadata": {},
   "outputs": [
    {
     "data": {
      "text/plain": [
       "array([0.6       , 0.23140496, 1.        , 0.        , 0.        ,\n",
       "       0.        , 0.        , 0.        , 0.        , 0.        ,\n",
       "       0.        , 0.        , 0.        , 0.        , 0.        ,\n",
       "       0.        , 1.        ])"
      ]
     },
     "execution_count": 90,
     "metadata": {},
     "output_type": "execute_result"
    }
   ],
   "source": [
    "X_test_scaled[1]"
   ]
  },
  {
   "cell_type": "code",
   "execution_count": 91,
   "id": "bee1a4fb-d6f4-4a00-aa6c-1bc812b36131",
   "metadata": {},
   "outputs": [
    {
     "data": {
      "text/plain": [
       "[0.6,\n",
       " 0.23140496,\n",
       " 1.0,\n",
       " 0.0,\n",
       " 0.0,\n",
       " 0.0,\n",
       " 0.0,\n",
       " 0.0,\n",
       " 0.0,\n",
       " 0.0,\n",
       " 0.0,\n",
       " 0.0,\n",
       " 0.0,\n",
       " 0.0,\n",
       " 0.0,\n",
       " 0.0,\n",
       " 1.0]"
      ]
     },
     "execution_count": 91,
     "metadata": {},
     "output_type": "execute_result"
    }
   ],
   "source": [
    "d = [0.6, 0.23140496, 1., 0., 0. ,0., 0., 0., 0., 0.,0., 0., 0., 0., 0., 0., 1.]\n",
    "d"
   ]
  },
  {
   "cell_type": "code",
   "execution_count": 92,
   "id": "61e71e54-414a-41dd-b06b-f3286f09ebde",
   "metadata": {},
   "outputs": [],
   "source": [
    "p = np.array([0.6, 0.23140496, 1., 0., 0. ,0., 0., 0., 0., 0.,0., 0., 0., 0., 0., 0., 1.])"
   ]
  },
  {
   "cell_type": "code",
   "execution_count": 93,
   "id": "bff6ede4-d8e7-4a84-99a5-30b6c4475569",
   "metadata": {},
   "outputs": [
    {
     "data": {
      "text/plain": [
       "array([808.95554638])"
      ]
     },
     "execution_count": 93,
     "metadata": {},
     "output_type": "execute_result"
    }
   ],
   "source": [
    "model.predict(p.reshape(1, -1))"
   ]
  },
  {
   "cell_type": "code",
   "execution_count": 94,
   "id": "d7922c4d-8fc1-4226-a793-f15f085bbd36",
   "metadata": {},
   "outputs": [
    {
     "data": {
      "text/html": [
       "<div>\n",
       "<style scoped>\n",
       "    .dataframe tbody tr th:only-of-type {\n",
       "        vertical-align: middle;\n",
       "    }\n",
       "\n",
       "    .dataframe tbody tr th {\n",
       "        vertical-align: top;\n",
       "    }\n",
       "\n",
       "    .dataframe thead th {\n",
       "        text-align: right;\n",
       "    }\n",
       "</style>\n",
       "<table border=\"1\" class=\"dataframe\">\n",
       "  <thead>\n",
       "    <tr style=\"text-align: right;\">\n",
       "      <th></th>\n",
       "      <th>RAM</th>\n",
       "      <th>Storage</th>\n",
       "      <th>Galaxy</th>\n",
       "      <th>Redmi</th>\n",
       "      <th>Oppo</th>\n",
       "      <th>Realme</th>\n",
       "      <th>Xiaomi</th>\n",
       "      <th>iPhone</th>\n",
       "      <th>5G</th>\n",
       "      <th>Blue</th>\n",
       "      <th>Gray</th>\n",
       "      <th>Black</th>\n",
       "      <th>Green</th>\n",
       "      <th>Silver</th>\n",
       "      <th>White</th>\n",
       "      <th>Gold</th>\n",
       "      <th>Purple</th>\n",
       "    </tr>\n",
       "  </thead>\n",
       "  <tbody>\n",
       "    <tr>\n",
       "      <th>738</th>\n",
       "      <td>4.0</td>\n",
       "      <td>128.0</td>\n",
       "      <td>0</td>\n",
       "      <td>0</td>\n",
       "      <td>0</td>\n",
       "      <td>0</td>\n",
       "      <td>1</td>\n",
       "      <td>0</td>\n",
       "      <td>0</td>\n",
       "      <td>0.0</td>\n",
       "      <td>1.0</td>\n",
       "      <td>0.0</td>\n",
       "      <td>0.0</td>\n",
       "      <td>0.0</td>\n",
       "      <td>0.0</td>\n",
       "      <td>0.0</td>\n",
       "      <td>0.0</td>\n",
       "    </tr>\n",
       "    <tr>\n",
       "      <th>279</th>\n",
       "      <td>8.0</td>\n",
       "      <td>256.0</td>\n",
       "      <td>0</td>\n",
       "      <td>0</td>\n",
       "      <td>0</td>\n",
       "      <td>0</td>\n",
       "      <td>0</td>\n",
       "      <td>0</td>\n",
       "      <td>1</td>\n",
       "      <td>0.0</td>\n",
       "      <td>1.0</td>\n",
       "      <td>0.0</td>\n",
       "      <td>0.0</td>\n",
       "      <td>0.0</td>\n",
       "      <td>0.0</td>\n",
       "      <td>0.0</td>\n",
       "      <td>0.0</td>\n",
       "    </tr>\n",
       "    <tr>\n",
       "      <th>77</th>\n",
       "      <td>12.0</td>\n",
       "      <td>256.0</td>\n",
       "      <td>0</td>\n",
       "      <td>0</td>\n",
       "      <td>0</td>\n",
       "      <td>1</td>\n",
       "      <td>0</td>\n",
       "      <td>0</td>\n",
       "      <td>0</td>\n",
       "      <td>0.0</td>\n",
       "      <td>0.0</td>\n",
       "      <td>0.0</td>\n",
       "      <td>0.0</td>\n",
       "      <td>0.0</td>\n",
       "      <td>0.0</td>\n",
       "      <td>0.0</td>\n",
       "      <td>1.0</td>\n",
       "    </tr>\n",
       "    <tr>\n",
       "      <th>1100</th>\n",
       "      <td>12.0</td>\n",
       "      <td>512.0</td>\n",
       "      <td>1</td>\n",
       "      <td>0</td>\n",
       "      <td>0</td>\n",
       "      <td>0</td>\n",
       "      <td>0</td>\n",
       "      <td>0</td>\n",
       "      <td>1</td>\n",
       "      <td>1.0</td>\n",
       "      <td>0.0</td>\n",
       "      <td>0.0</td>\n",
       "      <td>0.0</td>\n",
       "      <td>0.0</td>\n",
       "      <td>0.0</td>\n",
       "      <td>0.0</td>\n",
       "      <td>0.0</td>\n",
       "    </tr>\n",
       "  </tbody>\n",
       "</table>\n",
       "</div>"
      ],
      "text/plain": [
       "       RAM  Storage  Galaxy  Redmi  Oppo  Realme  Xiaomi  iPhone  5G  Blue  \\\n",
       "738    4.0    128.0       0      0     0       0       1       0   0   0.0   \n",
       "279    8.0    256.0       0      0     0       0       0       0   1   0.0   \n",
       "77    12.0    256.0       0      0     0       1       0       0   0   0.0   \n",
       "1100  12.0    512.0       1      0     0       0       0       0   1   1.0   \n",
       "\n",
       "      Gray  Black  Green  Silver  White  Gold  Purple  \n",
       "738    1.0    0.0    0.0     0.0    0.0   0.0     0.0  \n",
       "279    1.0    0.0    0.0     0.0    0.0   0.0     0.0  \n",
       "77     0.0    0.0    0.0     0.0    0.0   0.0     1.0  \n",
       "1100   0.0    0.0    0.0     0.0    0.0   0.0     0.0  "
      ]
     },
     "execution_count": 94,
     "metadata": {},
     "output_type": "execute_result"
    }
   ],
   "source": [
    "x.sample(4)"
   ]
  },
  {
   "cell_type": "code",
   "execution_count": 95,
   "id": "8cc5a4a9-4807-4bc9-810d-8192facd262e",
   "metadata": {},
   "outputs": [
    {
     "data": {
      "text/plain": [
       "array([[0.6       , 0.23140496, 1.        , 0.        , 0.        ,\n",
       "        0.        , 0.        , 0.        , 0.        , 0.        ,\n",
       "        0.        , 0.        , 0.        , 0.        , 0.        ,\n",
       "        0.        , 1.        ]])"
      ]
     },
     "execution_count": 95,
     "metadata": {},
     "output_type": "execute_result"
    }
   ],
   "source": [
    "p.reshape(1, -1)"
   ]
  },
  {
   "cell_type": "code",
   "execution_count": 96,
   "id": "c428a2dc-e0d5-4c0b-a891-553f458814bb",
   "metadata": {},
   "outputs": [],
   "source": [
    "s = pd.DataFrame(X_test_scaled,columns=x.columns)"
   ]
  },
  {
   "cell_type": "code",
   "execution_count": 97,
   "id": "fff4a8ca-f953-4551-88d0-4764096d887f",
   "metadata": {},
   "outputs": [
    {
     "data": {
      "text/plain": [
       "(114,)"
      ]
     },
     "execution_count": 97,
     "metadata": {},
     "output_type": "execute_result"
    }
   ],
   "source": [
    "y_pred.shape"
   ]
  },
  {
   "cell_type": "code",
   "execution_count": 98,
   "id": "a2a2d96c-f4ee-4bb7-9762-9cc8f887ec19",
   "metadata": {},
   "outputs": [
    {
     "data": {
      "text/plain": [
       "(114,)"
      ]
     },
     "execution_count": 98,
     "metadata": {},
     "output_type": "execute_result"
    }
   ],
   "source": [
    "Y_test.shape"
   ]
  },
  {
   "cell_type": "code",
   "execution_count": 99,
   "id": "fa9b8b0b-a3f4-47bc-9965-ecde96222065",
   "metadata": {},
   "outputs": [],
   "source": [
    "predicted = pd.DataFrame(y_pred,columns=[\"Predicted\"])"
   ]
  },
  {
   "cell_type": "code",
   "execution_count": 100,
   "id": "77b8691b-68d2-4148-85f4-33bfc66482f9",
   "metadata": {},
   "outputs": [],
   "source": [
    "predicted.reset_index(drop=True, inplace=True)\n",
    "Y_test.reset_index(drop=True, inplace=True)\n",
    "\n",
    "predicted[\"Actual\"] = Y_test"
   ]
  },
  {
   "cell_type": "code",
   "execution_count": 101,
   "id": "27b4d2e6-c6cb-4c9c-852e-b60859dfb43f",
   "metadata": {},
   "outputs": [
    {
     "data": {
      "text/plain": [
       "(114, 2)"
      ]
     },
     "execution_count": 101,
     "metadata": {},
     "output_type": "execute_result"
    }
   ],
   "source": [
    "predicted.shape"
   ]
  },
  {
   "cell_type": "code",
   "execution_count": 104,
   "id": "eeb9434a-2ce6-4d13-85ed-b2ff385c865a",
   "metadata": {},
   "outputs": [
    {
     "data": {
      "text/plain": [
       "1160     93.90\n",
       "754     120.00\n",
       "425     201.47\n",
       "852     340.42\n",
       "799     299.99\n",
       "Name: Final Price, dtype: float64"
      ]
     },
     "execution_count": 104,
     "metadata": {},
     "output_type": "execute_result"
    }
   ],
   "source": [
    "y.sample(5)"
   ]
  },
  {
   "cell_type": "code",
   "execution_count": null,
   "id": "78471dca-2545-4931-9860-753e3520dbda",
   "metadata": {},
   "outputs": [],
   "source": []
  }
 ],
 "metadata": {
  "kernelspec": {
   "display_name": "Python 3 (ipykernel)",
   "language": "python",
   "name": "python3"
  },
  "language_info": {
   "codemirror_mode": {
    "name": "ipython",
    "version": 3
   },
   "file_extension": ".py",
   "mimetype": "text/x-python",
   "name": "python",
   "nbconvert_exporter": "python",
   "pygments_lexer": "ipython3",
   "version": "3.10.4"
  }
 },
 "nbformat": 4,
 "nbformat_minor": 5
}
