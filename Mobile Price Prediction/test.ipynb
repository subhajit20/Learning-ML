{
 "cells": [
  {
   "cell_type": "code",
   "execution_count": 83,
   "id": "2e3c3b8a-d6d2-4d12-b9b8-4b5d7bc377a5",
   "metadata": {},
   "outputs": [],
   "source": [
    "from joblib import dump, load\n",
    "import numpy as np\n",
    "import pandas as pd"
   ]
  },
  {
   "cell_type": "code",
   "execution_count": 84,
   "id": "7d9bdfa3-1c66-497e-9826-5f25e7b98ee7",
   "metadata": {},
   "outputs": [],
   "source": [
    "loaded_pipe = load('mobile_price_predictor.pkl')"
   ]
  },
  {
   "cell_type": "code",
   "execution_count": 101,
   "id": "a64cdd9d-11e5-4d1e-aba1-547426e68eea",
   "metadata": {},
   "outputs": [],
   "source": [
    "p = np.array([12, 256, 0, 0, 0, 0, 0, 1, 1, 0, 1, 0, 0, 0, 0, 0, 0])"
   ]
  },
  {
   "cell_type": "code",
   "execution_count": 102,
   "id": "0f535c8f-ee0d-44f0-b69f-b4e592616bf4",
   "metadata": {},
   "outputs": [],
   "source": [
    "input = pd.DataFrame(p.reshape(1,-1),columns=['RAM', 'Storage', 'Galaxy', 'Redmi', 'Oppo', 'Realme', 'Xiaomi','iPhone', '5G', 'Blue', 'Gray', 'Black', 'Green', 'Silver', 'White','Gold', 'Purple'])"
   ]
  },
  {
   "cell_type": "code",
   "execution_count": 103,
   "id": "6854fb2b-d219-4f6c-93fb-9ac82cc78f11",
   "metadata": {},
   "outputs": [
    {
     "data": {
      "text/plain": [
       "array([46133.6501859])"
      ]
     },
     "execution_count": 103,
     "metadata": {},
     "output_type": "execute_result"
    }
   ],
   "source": [
    "loaded_pipe.predict(input)"
   ]
  },
  {
   "cell_type": "code",
   "execution_count": null,
   "id": "893c0af9-aead-4366-ad9b-f9614259c809",
   "metadata": {},
   "outputs": [],
   "source": []
  }
 ],
 "metadata": {
  "kernelspec": {
   "display_name": "Python 3 (ipykernel)",
   "language": "python",
   "name": "python3"
  },
  "language_info": {
   "codemirror_mode": {
    "name": "ipython",
    "version": 3
   },
   "file_extension": ".py",
   "mimetype": "text/x-python",
   "name": "python",
   "nbconvert_exporter": "python",
   "pygments_lexer": "ipython3",
   "version": "3.10.4"
  }
 },
 "nbformat": 4,
 "nbformat_minor": 5
}
