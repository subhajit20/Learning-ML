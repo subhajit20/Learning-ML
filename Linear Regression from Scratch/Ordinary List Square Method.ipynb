{
 "cells": [
  {
   "cell_type": "markdown",
   "id": "4f08e04f-1fa9-4adc-9e91-09a0d46318ac",
   "metadata": {},
   "source": [
    "<h1>Let's use a sample dataset to illustrate the OLS method step-by-step.</h1>"
   ]
  },
  {
   "cell_type": "code",
   "execution_count": 9,
   "id": "96ac6a13-5d8d-4e54-9317-b92116683cf8",
   "metadata": {},
   "outputs": [],
   "source": [
    "import pandas as pd\n",
    "import matplotlib.pyplot as plt"
   ]
  },
  {
   "cell_type": "code",
   "execution_count": 10,
   "id": "2aa5e085-d818-423a-9cf3-6262f764bfad",
   "metadata": {},
   "outputs": [],
   "source": [
    "data = {'x': [1, 2, 3, 4],\n",
    "'y': [2, 3, 4, 5]}"
   ]
  },
  {
   "cell_type": "code",
   "execution_count": 11,
   "id": "f94b4107-5643-4dac-8a75-7dd33e450053",
   "metadata": {},
   "outputs": [
    {
     "data": {
      "text/plain": [
       "{'x': [1, 2, 3, 4], 'y': [2, 3, 4, 5]}"
      ]
     },
     "execution_count": 11,
     "metadata": {},
     "output_type": "execute_result"
    }
   ],
   "source": [
    "data"
   ]
  },
  {
   "cell_type": "markdown",
   "id": "ef17f098-537b-4fa3-9ec2-9eda5a57f064",
   "metadata": {},
   "source": [
    "<h1>Creating one sample Dataset</h1>"
   ]
  },
  {
   "cell_type": "code",
   "execution_count": 12,
   "id": "fa720b77-417d-46cc-a081-d659d976ad6f",
   "metadata": {},
   "outputs": [
    {
     "data": {
      "text/html": [
       "<div>\n",
       "<style scoped>\n",
       "    .dataframe tbody tr th:only-of-type {\n",
       "        vertical-align: middle;\n",
       "    }\n",
       "\n",
       "    .dataframe tbody tr th {\n",
       "        vertical-align: top;\n",
       "    }\n",
       "\n",
       "    .dataframe thead th {\n",
       "        text-align: right;\n",
       "    }\n",
       "</style>\n",
       "<table border=\"1\" class=\"dataframe\">\n",
       "  <thead>\n",
       "    <tr style=\"text-align: right;\">\n",
       "      <th></th>\n",
       "      <th>x</th>\n",
       "      <th>y</th>\n",
       "    </tr>\n",
       "  </thead>\n",
       "  <tbody>\n",
       "    <tr>\n",
       "      <th>0</th>\n",
       "      <td>1</td>\n",
       "      <td>2</td>\n",
       "    </tr>\n",
       "    <tr>\n",
       "      <th>1</th>\n",
       "      <td>2</td>\n",
       "      <td>3</td>\n",
       "    </tr>\n",
       "    <tr>\n",
       "      <th>2</th>\n",
       "      <td>3</td>\n",
       "      <td>4</td>\n",
       "    </tr>\n",
       "    <tr>\n",
       "      <th>3</th>\n",
       "      <td>4</td>\n",
       "      <td>5</td>\n",
       "    </tr>\n",
       "  </tbody>\n",
       "</table>\n",
       "</div>"
      ],
      "text/plain": [
       "   x  y\n",
       "0  1  2\n",
       "1  2  3\n",
       "2  3  4\n",
       "3  4  5"
      ]
     },
     "execution_count": 12,
     "metadata": {},
     "output_type": "execute_result"
    }
   ],
   "source": [
    "df = pd.DataFrame(data)\n",
    "df.head()"
   ]
  },
  {
   "cell_type": "code",
   "execution_count": 18,
   "id": "2a0008e7-f912-4c73-886d-6bf4df8fdc7a",
   "metadata": {},
   "outputs": [
    {
     "data": {
      "text/plain": [
       "<matplotlib.collections.PathCollection at 0x11a960b50>"
      ]
     },
     "execution_count": 18,
     "metadata": {},
     "output_type": "execute_result"
    },
    {
     "data": {
      "image/png": "[encoded data removed]",
      "text/plain": [
       "<Figure size 640x480 with 1 Axes>"
      ]
     },
     "metadata": {},
     "output_type": "display_data"
    }
   ],
   "source": [
    "plt.scatter(x=df[\"x\"],y=df[\"y\"])"
   ]
  },
  {
   "cell_type": "markdown",
   "id": "7dc669b8-fc6a-4ecc-995d-fef499cf87b8",
   "metadata": {},
   "source": [
    "<h1>Calculate the mean of y</h1>"
   ]
  },
  {
   "cell_type": "code",
   "execution_count": 32,
   "id": "879d740d-b0b9-40bf-91ed-cd592a448cee",
   "metadata": {},
   "outputs": [],
   "source": [
    "sum = 0\n",
    "for i in df[\"y\"].values:\n",
    "    sum += i\n",
    "mean_y = sum/len(df[\"y\"].values)"
   ]
  },
  {
   "cell_type": "code",
   "execution_count": 33,
   "id": "5d0551c5-c098-4f67-a148-be7987d32694",
   "metadata": {},
   "outputs": [
    {
     "data": {
      "text/plain": [
       "3.5"
      ]
     },
     "execution_count": 33,
     "metadata": {},
     "output_type": "execute_result"
    }
   ],
   "source": [
    "mean_y"
   ]
  },
  {
   "cell_type": "markdown",
   "id": "7f286719-ade0-47ee-8c8c-06ddbb472408",
   "metadata": {},
   "source": [
    "<h1>Calculate the mean of x</h1>"
   ]
  },
  {
   "cell_type": "code",
   "execution_count": 34,
   "id": "2ad1aeaa-caee-4653-a3fa-7dc28b30c237",
   "metadata": {},
   "outputs": [],
   "source": [
    "sum = 0\n",
    "for i in df[\"x\"].values:\n",
    "    sum += i\n",
    "mean_x = sum/len(df[\"y\"].values)"
   ]
  },
  {
   "cell_type": "code",
   "execution_count": 35,
   "id": "641874d7-ebec-4fd8-a0c3-42b86551d308",
   "metadata": {},
   "outputs": [
    {
     "data": {
      "text/plain": [
       "2.5"
      ]
     },
     "execution_count": 35,
     "metadata": {},
     "output_type": "execute_result"
    }
   ],
   "source": [
    "mean_x"
   ]
  },
  {
   "cell_type": "markdown",
   "id": "5e80b2d7-68bd-47ea-8824-7e5e7a3c9295",
   "metadata": {},
   "source": [
    "<h1>Calculate the deviations from the mean</h1>"
   ]
  },
  {
   "cell_type": "code",
   "execution_count": 52,
   "id": "861a0f90-8178-4928-be13-689d3deffb17",
   "metadata": {},
   "outputs": [],
   "source": [
    "y_deviation = []\n",
    "for i in df[\"y\"].values:\n",
    "    y_deviation.append(i - mean_y)"
   ]
  },
  {
   "cell_type": "code",
   "execution_count": 53,
   "id": "4a3a1c6a-a1f7-49ae-bb2d-47b3c881babf",
   "metadata": {},
   "outputs": [
    {
     "data": {
      "text/plain": [
       "[-1.5, -0.5, 0.5, 1.5]"
      ]
     },
     "execution_count": 53,
     "metadata": {},
     "output_type": "execute_result"
    }
   ],
   "source": [
    "y_deviation"
   ]
  },
  {
   "cell_type": "code",
   "execution_count": 54,
   "id": "bb517a14-6d97-410d-8200-315cdb17c7b6",
   "metadata": {},
   "outputs": [],
   "source": [
    "x_deviation = []\n",
    "for i in df[\"x\"].values:\n",
    "    x_deviation.append(i - mean_x)"
   ]
  },
  {
   "cell_type": "code",
   "execution_count": 55,
   "id": "46f12bb2-363e-4ff5-8c6e-4a5c2ba542fc",
   "metadata": {},
   "outputs": [
    {
     "data": {
      "text/plain": [
       "[-1.5, -0.5, 0.5, 1.5]"
      ]
     },
     "execution_count": 55,
     "metadata": {},
     "output_type": "execute_result"
    }
   ],
   "source": [
    "x_deviation"
   ]
  },
  {
   "cell_type": "markdown",
   "id": "3b2d2601-46d2-43e3-8433-8925298b4ef8",
   "metadata": {},
   "source": [
    "<h1>Calculate the slope (m)</h1>"
   ]
  },
  {
   "cell_type": "markdown",
   "id": "4984c513-c207-49d4-8fe6-b38c5e8e3bc0",
   "metadata": {},
   "source": [
    "<h3>Σ((x_i - mean_x)(y_i - mean_y)) / Σ(x_i - mean_x)^2</h3>"
   ]
  },
  {
   "cell_type": "code",
   "execution_count": 93,
   "id": "aad2b667-ec24-4709-a99e-49c18a231e64",
   "metadata": {},
   "outputs": [],
   "source": [
    "deviation = {\n",
    "    'x_deviation': x_deviation,\n",
    "    'y_deviation': y_deviation\n",
    "}\n",
    "deviation = pd.DataFrame(deviation)"
   ]
  },
  {
   "cell_type": "code",
   "execution_count": 124,
   "id": "ec52e654-9a84-4edc-83bc-bcf967987e69",
   "metadata": {},
   "outputs": [
    {
     "data": {
      "text/plain": [
       "array([[-1.5, -1.5],\n",
       "       [-0.5, -0.5],\n",
       "       [ 0.5,  0.5],\n",
       "       [ 1.5,  1.5]])"
      ]
     },
     "execution_count": 124,
     "metadata": {},
     "output_type": "execute_result"
    }
   ],
   "source": [
    "deviation.values"
   ]
  },
  {
   "cell_type": "code",
   "execution_count": 125,
   "id": "f5d04ba8-dbba-411c-910b-b583985fab88",
   "metadata": {},
   "outputs": [
    {
     "name": "stdout",
     "output_type": "stream",
     "text": [
      "-1.5 -1.5\n",
      "-0.5 -0.5\n",
      "0.5 0.5\n",
      "1.5 1.5\n"
     ]
    }
   ],
   "source": [
    "sum_of_deviation = 0\n",
    "for i in deviation.values:\n",
    "    print(i[0],i[1])\n",
    "    sum_of_deviation += i[0] * i[1]"
   ]
  },
  {
   "cell_type": "code",
   "execution_count": 126,
   "id": "dcf5c18f-55a5-484e-ac9b-137a09e2946d",
   "metadata": {},
   "outputs": [
    {
     "data": {
      "text/plain": [
       "5.0"
      ]
     },
     "execution_count": 126,
     "metadata": {},
     "output_type": "execute_result"
    }
   ],
   "source": [
    "sum_of_deviation"
   ]
  },
  {
   "cell_type": "code",
   "execution_count": 127,
   "id": "dfce5e39-8a08-4e2b-bd43-76bc4841ad57",
   "metadata": {},
   "outputs": [],
   "source": [
    "sum_of_x_deviation = 0\n",
    "for i in deviation['x_deviation'].values:\n",
    "    sum_of_x_deviation += i * i"
   ]
  },
  {
   "cell_type": "code",
   "execution_count": 128,
   "id": "fb7d893c-a8a7-44de-915a-099642a38030",
   "metadata": {},
   "outputs": [
    {
     "data": {
      "text/plain": [
       "5.0"
      ]
     },
     "execution_count": 128,
     "metadata": {},
     "output_type": "execute_result"
    }
   ],
   "source": [
    "sum_of_x_deviation"
   ]
  },
  {
   "cell_type": "code",
   "execution_count": 129,
   "id": "87524514-8ada-43c5-8cc9-4e688c796f28",
   "metadata": {},
   "outputs": [
    {
     "data": {
      "text/plain": [
       "1.0"
      ]
     },
     "execution_count": 129,
     "metadata": {},
     "output_type": "execute_result"
    }
   ],
   "source": [
    "slope = sum_of_deviation / sum_of_x_deviation\n",
    "slope"
   ]
  },
  {
   "cell_type": "markdown",
   "id": "36d0f063-1494-484e-9be2-cda52802dd51",
   "metadata": {},
   "source": [
    "<h1>Calculate the intercept (Y)</h1>"
   ]
  },
  {
   "cell_type": "code",
   "execution_count": 130,
   "id": "8c656b2b-16cd-4e54-a945-a097660905c2",
   "metadata": {},
   "outputs": [],
   "source": [
    "y_intercept = mean_y - slope * mean_x"
   ]
  },
  {
   "cell_type": "code",
   "execution_count": 131,
   "id": "06792389-c4f9-4b22-8ac5-76633aecaab6",
   "metadata": {},
   "outputs": [
    {
     "data": {
      "text/plain": [
       "1.0"
      ]
     },
     "execution_count": 131,
     "metadata": {},
     "output_type": "execute_result"
    }
   ],
   "source": [
    "y_intercept"
   ]
  },
  {
   "cell_type": "code",
   "execution_count": 136,
   "id": "af34f1ef-b7c0-4dbf-8b47-f6f6e67f3166",
   "metadata": {},
   "outputs": [],
   "source": [
    "y = slope * 9 + y_intercept"
   ]
  },
  {
   "cell_type": "code",
   "execution_count": 137,
   "id": "f94aa66b-9633-4bc3-8bb4-b61821c8e707",
   "metadata": {},
   "outputs": [
    {
     "data": {
      "text/plain": [
       "10.0"
      ]
     },
     "execution_count": 137,
     "metadata": {},
     "output_type": "execute_result"
    }
   ],
   "source": [
    "y"
   ]
  }
 ],
 "metadata": {
  "kernelspec": {
   "display_name": "Python 3 (ipykernel)",
   "language": "python",
   "name": "python3"
  },
  "language_info": {
   "codemirror_mode": {
    "name": "ipython",
    "version": 3
   },
   "file_extension": ".py",
   "mimetype": "text/x-python",
   "name": "python",
   "nbconvert_exporter": "python",
   "pygments_lexer": "ipython3",
   "version": "3.10.4"
  }
 },
 "nbformat": 4,
 "nbformat_minor": 5
}
